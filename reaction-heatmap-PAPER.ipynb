{
 "cells": [
  {
   "cell_type": "code",
   "execution_count": 21,
   "metadata": {},
   "outputs": [],
   "source": [
    "import numpy as np\n",
    "import readdy\n",
    "import os\n",
    "import sys\n",
    "from datetime import datetime\n",
    "from itertools import product\n",
    "import matplotlib.pyplot as plt\n",
    "from readdy.api.utils import load_trajectory_to_npy\n",
    "import pickle"
   ]
  },
  {
   "cell_type": "code",
   "execution_count": 2,
   "metadata": {},
   "outputs": [],
   "source": [
    "PD_rates=[0.0001,0.0005,0.001,0.005,0.01]\n",
    "MCP_rates=[0.0,0.0001,0.0005,0.001,0.005,0.01]\n",
    "U_v=[0.0,10.0,50.0]\n",
    "#U_v=[50.0]\n",
    "repeat=[1.0,2.0,3.0,4.0,5.0]"
   ]
  },
  {
   "cell_type": "code",
   "execution_count": 15,
   "metadata": {},
   "outputs": [],
   "source": [
    "def get_pos(file):\n",
    "    trajectory = readdy.Trajectory(file)\n",
    "    rec=trajectory.read_observable_reactions()\n",
    "    pos=[]\n",
    "    for r in rec[1]:\n",
    "        if (r):\n",
    "            if(r[0].type==\"fusion\"):\n",
    "                pos.append(r[0].position)\n",
    "    return(np.array(pos))"
   ]
  },
  {
   "cell_type": "code",
   "execution_count": 3,
   "metadata": {},
   "outputs": [],
   "source": [
    "file=f\"activity_map/gradient_R1R2_{PD_rates[3]}_{MCP_rates[2]}_{U_v[-1]}_1.0.h5\""
   ]
  },
  {
   "cell_type": "code",
   "execution_count": 16,
   "metadata": {},
   "outputs": [],
   "source": [
    "pos1=get_pos(f\"activity_map/gradient_R1R2_{PD_rates[3]}_{MCP_rates[2]}_{U_v[-1]}_1.0.h5\")"
   ]
  },
  {
   "cell_type": "code",
   "execution_count": 17,
   "metadata": {},
   "outputs": [],
   "source": [
    "pos2=get_pos(f\"activity_map/gradient_R1R2_{PD_rates[3]}_{MCP_rates[2]}_{U_v[-1]}_2.0.h5\")"
   ]
  },
  {
   "cell_type": "code",
   "execution_count": 18,
   "metadata": {},
   "outputs": [],
   "source": [
    "pos3=get_pos(f\"activity_map/gradient_R1R2_{PD_rates[3]}_{MCP_rates[2]}_{U_v[-1]}_3.0.h5\")"
   ]
  },
  {
   "cell_type": "code",
   "execution_count": 22,
   "metadata": {},
   "outputs": [],
   "source": [
    "pickle.dump( [pos1,pos2,pos3], open( \"reaction-heatmap-PAPER.p\", \"wb\" ) )"
   ]
  },
  {
   "cell_type": "code",
   "execution_count": 29,
   "metadata": {},
   "outputs": [],
   "source": [
    "pos=np.concatenate([pos1,pos2,pos3])"
   ]
  },
  {
   "cell_type": "code",
   "execution_count": 46,
   "metadata": {},
   "outputs": [
    {
     "data": {
      "text/plain": [
       "[(-60.0, 60.0)]"
      ]
     },
     "execution_count": 46,
     "metadata": {},
     "output_type": "execute_result"
    },
    {
     "data": {
      "image/png": "[encoded data removed]",
      "text/plain": [
       "<Figure size 432x288 with 1 Axes>"
      ]
     },
     "metadata": {
      "needs_background": "light"
     },
     "output_type": "display_data"
    }
   ],
   "source": [
    "plt.hist2d(np.array(pos)[:,1],np.array(pos)[:,2],bins=( np.arange(-650,650, 100),np.arange(-70, 70, 10)))\n",
    "plt.gca().set(ylim=(-60,60))"
   ]
  },
  {
   "cell_type": "code",
   "execution_count": 40,
   "metadata": {},
   "outputs": [
    {
     "data": {
      "text/plain": [
       "(array([200., 153.,  74.,  27.,  12.,   6.,   0.,   1.,   0.,   1.]),\n",
       " array([-674.47228445, -609.98817789, -545.50407133, -481.01996477,\n",
       "        -416.53585821, -352.05175165, -287.56764509, -223.08353853,\n",
       "        -158.59943197,  -94.11532541,  -29.63121885]),\n",
       " <BarContainer object of 10 artists>)"
      ]
     },
     "execution_count": 40,
     "metadata": {},
     "output_type": "execute_result"
    },
    {
     "data": {
      "image/png": "[encoded data removed]",
      "text/plain": [
       "<Figure size 432x288 with 1 Axes>"
      ]
     },
     "metadata": {
      "needs_background": "light"
     },
     "output_type": "display_data"
    }
   ],
   "source": [
    "plt.hist(np.array(pos)[:,1])"
   ]
  },
  {
   "cell_type": "code",
   "execution_count": null,
   "metadata": {},
   "outputs": [],
   "source": []
  },
  {
   "cell_type": "code",
   "execution_count": 34,
   "metadata": {},
   "outputs": [
    {
     "ename": "TypeError",
     "evalue": "list indices must be integers or slices, not tuple",
     "output_type": "error",
     "traceback": [
      "\u001b[0;31m---------------------------------------------------------------------------\u001b[0m",
      "\u001b[0;31mTypeError\u001b[0m                                 Traceback (most recent call last)",
      "\u001b[0;32m<ipython-input-34-c84b90799813>\u001b[0m in \u001b[0;36m<module>\u001b[0;34m\u001b[0m\n\u001b[0;32m----> 1\u001b[0;31m \u001b[0mpos\u001b[0m\u001b[0;34m[\u001b[0m\u001b[0;34m:\u001b[0m\u001b[0;34m,\u001b[0m\u001b[0;36m1\u001b[0m\u001b[0;34m]\u001b[0m\u001b[0;34m\u001b[0m\u001b[0;34m\u001b[0m\u001b[0m\n\u001b[0m",
      "\u001b[0;31mTypeError\u001b[0m: list indices must be integers or slices, not tuple"
     ]
    }
   ],
   "source": [
    "np.array(pos[:,2]"
   ]
  },
  {
   "cell_type": "code",
   "execution_count": 62,
   "metadata": {},
   "outputs": [],
   "source": [
    "s=1"
   ]
  },
  {
   "cell_type": "code",
   "execution_count": 63,
   "metadata": {},
   "outputs": [],
   "source": [
    "n_particles_per_frame, positions, types, ids = load_trajectory_to_npy(\n",
    "            file,begin=0,stride=s)\n"
   ]
  },
  {
   "cell_type": "code",
   "execution_count": 64,
   "metadata": {},
   "outputs": [],
   "source": [
    "data=np.diff(n_particles_per_frame.astype( np.int32 ))"
   ]
  },
  {
   "cell_type": "code",
   "execution_count": 65,
   "metadata": {},
   "outputs": [
    {
     "data": {
      "text/plain": [
       "[<matplotlib.lines.Line2D at 0x2b3d116a2e50>]"
      ]
     },
     "execution_count": 65,
     "metadata": {},
     "output_type": "execute_result"
    },
    {
     "data": {
      "image/png": "[encoded data removed]",
      "text/plain": [
       "<Figure size 432x288 with 1 Axes>"
      ]
     },
     "metadata": {
      "needs_background": "light"
     },
     "output_type": "display_data"
    }
   ],
   "source": [
    "plt.plot(data,'.')"
   ]
  },
  {
   "cell_type": "code",
   "execution_count": 66,
   "metadata": {},
   "outputs": [
    {
     "data": {
      "text/plain": [
       "960"
      ]
     },
     "execution_count": 66,
     "metadata": {},
     "output_type": "execute_result"
    }
   ],
   "source": [
    "len(np.where(data==-1)[0])"
   ]
  },
  {
   "cell_type": "code",
   "execution_count": 55,
   "metadata": {},
   "outputs": [
    {
     "data": {
      "text/plain": [
       "array([[ -30.47104092, -535.65090475,   -6.73548453],\n",
       "       [   2.46957891, -354.72363015,  -47.00186178],\n",
       "       [  18.51957458, -371.06378304,    9.38804375],\n",
       "       [   9.46330137, -452.42627485,   24.25550061],\n",
       "       [  60.24162252, -258.03554056,   67.97573257],\n",
       "       [ -65.31637639,  -66.36444308,  -61.14786864],\n",
       "       [  33.24440425, -166.31748606,  -40.04789925],\n",
       "       [   1.13718583,  -84.68595186,    4.66118154],\n",
       "       [  20.75765148,   95.66869518,  -35.33754955],\n",
       "       [  60.70062024,  273.02529521,  -45.66305504],\n",
       "       [  18.43526383,  409.32906521,  -43.73700534],\n",
       "       [ -14.10457053,  441.02072506,   67.73582625],\n",
       "       [ -37.7204621 ,  388.03312072,   -7.48724202],\n",
       "       [ -61.6758087 ,  543.84981077,  -49.90727084],\n",
       "       [   7.08703291,  666.8114633 ,    9.63474189],\n",
       "       [   0.        , -675.        ,    0.        ],\n",
       "       [  10.30612903, -361.78119655,  -18.06362393],\n",
       "       [ -43.4155761 , -560.41570905,    3.09238748],\n",
       "       [   0.        ,    0.        ,    0.        ],\n",
       "       [   0.        ,    0.        ,    0.        ],\n",
       "       [   0.        ,    0.        ,    0.        ],\n",
       "       [   0.        ,    0.        ,    0.        ],\n",
       "       [   0.        ,    0.        ,    0.        ],\n",
       "       [   0.        ,    0.        ,    0.        ],\n",
       "       [   0.        ,    0.        ,    0.        ],\n",
       "       [   0.        ,    0.        ,    0.        ],\n",
       "       [   0.        ,    0.        ,    0.        ]])"
      ]
     },
     "execution_count": 55,
     "metadata": {},
     "output_type": "execute_result"
    }
   ],
   "source": [
    "positions[669]"
   ]
  },
  {
   "cell_type": "code",
   "execution_count": 57,
   "metadata": {},
   "outputs": [
    {
     "data": {
      "text/plain": [
       "array([[ -33.73501051, -541.53244145,   -5.07896758],\n",
       "       [  -7.64102543, -348.49931736,  -39.88107591],\n",
       "       [  20.42371141, -375.37617494,    7.13235733],\n",
       "       [  11.36577071, -449.40013215,   22.68071923],\n",
       "       [  58.53658525, -260.54751524,   65.9514172 ],\n",
       "       [ -67.70435511,  -73.66484068,  -66.18812207],\n",
       "       [  29.56147361, -165.30793519,  -40.29038049],\n",
       "       [   2.5948419 ,  -81.50960979,    5.61107468],\n",
       "       [  23.86465334,   94.61845559,  -38.18007208],\n",
       "       [  58.19389513,  280.21408058,  -48.07686345],\n",
       "       [  20.35647639,  408.92249642,  -40.81654197],\n",
       "       [ -18.15138393,  447.75807896,   61.62690392],\n",
       "       [ -47.65686741,  381.12536044,  -11.23951642],\n",
       "       [ -63.3659174 ,  545.14459955,  -49.6563233 ],\n",
       "       [   2.32811375,  675.93957296,    9.30711593],\n",
       "       [   0.        , -675.        ,    0.        ],\n",
       "       [  11.0462366 , -359.57836713,  -17.98485902],\n",
       "       [   0.        ,    0.        ,    0.        ],\n",
       "       [   0.        ,    0.        ,    0.        ],\n",
       "       [   0.        ,    0.        ,    0.        ],\n",
       "       [   0.        ,    0.        ,    0.        ],\n",
       "       [   0.        ,    0.        ,    0.        ],\n",
       "       [   0.        ,    0.        ,    0.        ],\n",
       "       [   0.        ,    0.        ,    0.        ],\n",
       "       [   0.        ,    0.        ,    0.        ],\n",
       "       [   0.        ,    0.        ,    0.        ],\n",
       "       [   0.        ,    0.        ,    0.        ]])"
      ]
     },
     "execution_count": 57,
     "metadata": {},
     "output_type": "execute_result"
    }
   ],
   "source": [
    "positions[670]"
   ]
  },
  {
   "cell_type": "code",
   "execution_count": 44,
   "metadata": {},
   "outputs": [
    {
     "ename": "TypeError",
     "evalue": "only size-1 arrays can be converted to Python scalars",
     "output_type": "error",
     "traceback": [
      "\u001b[0;31m---------------------------------------------------------------------------\u001b[0m",
      "\u001b[0;31mTypeError\u001b[0m                                 Traceback (most recent call last)",
      "\u001b[0;32m<ipython-input-44-c875474e39fb>\u001b[0m in \u001b[0;36m<module>\u001b[0;34m\u001b[0m\n\u001b[0;32m----> 1\u001b[0;31m \u001b[0mnp\u001b[0m\u001b[0;34m.\u001b[0m\u001b[0mint\u001b[0m\u001b[0;34m(\u001b[0m\u001b[0mn_particles_per_frame\u001b[0m\u001b[0;34m[\u001b[0m\u001b[0;36m665\u001b[0m\u001b[0;34m:\u001b[0m\u001b[0;36m680\u001b[0m\u001b[0;34m]\u001b[0m\u001b[0;34m)\u001b[0m\u001b[0;34m\u001b[0m\u001b[0;34m\u001b[0m\u001b[0m\n\u001b[0m",
      "\u001b[0;31mTypeError\u001b[0m: only size-1 arrays can be converted to Python scalars"
     ]
    }
   ],
   "source": [
    "(n_particles_per_frame[665:680])"
   ]
  },
  {
   "cell_type": "code",
   "execution_count": 48,
   "metadata": {},
   "outputs": [
    {
     "data": {
      "text/plain": [
       "array([ 0,  0,  0,  0, -1,  0,  0,  0,  0,  0,  0,  0,  0,  0],\n",
       "      dtype=int32)"
      ]
     },
     "execution_count": 48,
     "metadata": {},
     "output_type": "execute_result"
    }
   ],
   "source": [
    "np.diff(n_particles_per_frame[665:680].astype( np.int32 ))"
   ]
  },
  {
   "cell_type": "code",
   "execution_count": 40,
   "metadata": {},
   "outputs": [
    {
     "data": {
      "text/plain": [
       "18446744073709551615"
      ]
     },
     "execution_count": 40,
     "metadata": {},
     "output_type": "execute_result"
    }
   ],
   "source": [
    "np.diff(n_particles_per_frame)[669]"
   ]
  },
  {
   "cell_type": "code",
   "execution_count": 35,
   "metadata": {},
   "outputs": [
    {
     "data": {
      "text/plain": [
       "(array([   12,   255,   669,   958,  1121,  1146,  1398,  1484,  1592,\n",
       "         1634,  1968,  2039,  2203,  2232,  2297,  2442,  2474,  2514,\n",
       "         2746,  3091,  3093,  3269,  3554,  3729,  3866,  4018,  4152,\n",
       "         4272,  4362,  4760,  4780,  4836,  4868,  4965,  5094,  5180,\n",
       "         5218,  5243,  5324,  5535,  5732,  5937,  6005,  6024,  6506,\n",
       "         6531,  6634,  6660,  6759,  6974,  6989,  7050,  7209,  7238,\n",
       "         7639,  7683,  7800,  7851,  7854,  7897,  7926,  7965,  8219,\n",
       "         8281,  8355,  8421,  8496,  8555,  8667,  8988,  9027,  9096,\n",
       "         9404,  9785,  9864,  9874, 10185, 10258, 10342, 10555, 10598,\n",
       "        10626, 10628, 10689, 10784, 10842, 10963, 10986, 11252, 11291,\n",
       "        11564, 11630, 11649, 12248, 12352, 12440, 12518, 12640, 12740,\n",
       "        12753, 12774, 13194, 13215, 13446, 13579, 13793, 13874, 14024,\n",
       "        14330, 14635, 14695, 14884, 15056, 15138, 15225, 15261, 15395,\n",
       "        15498, 15746, 15859, 15966, 16203, 16231, 16237, 16598, 16617,\n",
       "        16620, 16639, 17041, 17059, 17110, 17139, 17171, 17190, 17204,\n",
       "        17394, 17784, 17793, 17870, 17990, 18007, 18091, 18227, 18285,\n",
       "        18292, 18391, 18420, 18521, 18608, 18860, 18909, 18938, 18983,\n",
       "        19048, 19112, 19129, 19226, 19374, 19375, 19376, 19472, 19521,\n",
       "        19578, 19599, 19627, 19679, 19815, 20070, 20406, 20691, 20720,\n",
       "        20906, 21113, 21136, 21292, 21352, 21518, 21659, 21675, 21698,\n",
       "        21706, 21731, 21804, 22062, 22102, 22226, 22340, 22469, 22603,\n",
       "        22634, 22661, 22695, 22699, 22705, 22726, 22790, 22830, 22831,\n",
       "        22997, 23001, 23128, 23135, 23350, 23456, 23533, 23578, 23604,\n",
       "        23791, 23890, 24074, 24238, 24294, 24313, 24433, 24440, 24555,\n",
       "        24600, 24962, 25015, 25080, 25114, 25359, 25376, 25514, 25638,\n",
       "        25708, 25847, 25848, 25939, 25979, 26009, 26079, 26530, 26537,\n",
       "        26598, 26882, 27004, 27142, 27233, 27320, 27415, 27416, 27547,\n",
       "        27646, 27696, 27849, 27857, 28018, 28073, 28221, 28266, 28701,\n",
       "        28783, 28860, 28952, 29079, 29148, 29296, 29318, 29415, 29441,\n",
       "        29602, 29779, 30005, 30069, 30105, 30289, 30809, 30998, 31005,\n",
       "        31010, 31161, 31598, 31606, 32035, 32224, 32258, 32345, 32488,\n",
       "        32535, 32672, 32726, 32749, 32753, 33456, 33525, 33671, 33688,\n",
       "        33858, 34173, 34318, 34334, 34403, 34849, 34993, 35165, 35283,\n",
       "        35357, 35468, 35728, 35993, 36160, 36244, 36696, 36720, 36777,\n",
       "        36814, 37060, 37398, 37445, 37466, 37474, 37525, 37650, 37765,\n",
       "        37776, 37791, 37833, 37879, 37889, 38024, 38276, 38322, 38665,\n",
       "        38896, 38950, 39084, 39227, 39654, 39999, 40314, 40354, 40543,\n",
       "        40579, 40630, 40767, 40769, 40834, 40838, 40880, 40928, 41105,\n",
       "        41526, 41817, 41896, 42452, 42883, 42957, 43104, 43401, 43462,\n",
       "        43564, 43717, 43725, 43915, 43921, 43967, 44069, 44164, 44390,\n",
       "        44396, 44397, 44432, 44607, 44641, 44646, 44662, 44778, 44827,\n",
       "        44880, 45111, 45124, 45137, 45176, 45196, 45201, 45309, 45315,\n",
       "        45335, 45371, 45548, 45559, 45742, 45801, 45899, 45925, 45939,\n",
       "        45946, 46299, 46334, 46439, 46551, 46793, 47038, 47297, 47469,\n",
       "        47527, 47681, 47879, 48019, 48183, 48184, 48235, 48264, 48449,\n",
       "        48512, 48536, 48805, 48854, 48866, 48946, 48986, 49207, 49253,\n",
       "        49301, 49807, 50296, 50315, 50430, 50668, 51114, 51118, 51128,\n",
       "        51268, 51321, 51439, 51452, 51494, 51499, 51674, 51720, 51815,\n",
       "        52021, 52183, 52187, 52219, 52377, 52405, 52478, 52652, 52812,\n",
       "        52913, 53035, 53129, 53135, 53190, 53271, 53448, 53850, 53853,\n",
       "        53905, 54448, 54533, 54573, 54653, 54866, 54906, 55107, 55110,\n",
       "        55155, 55168, 55439, 55537, 55567, 55581, 55709, 55747, 55787,\n",
       "        55791, 55793, 55872, 55957, 56039, 56407, 56480, 56606, 56712,\n",
       "        56725, 56858, 57108, 57321, 57562, 57608, 57655, 57740, 57898,\n",
       "        57905, 57964, 58088, 58222, 58329, 58437, 58558, 58605, 58747,\n",
       "        58767, 58863, 58885, 58993, 59020, 59036, 59148, 59267, 59268,\n",
       "        59367, 59526, 59536, 59719, 59722, 59856, 59860, 60029, 60109,\n",
       "        60128, 60156, 60160, 60261, 60353, 60386, 60413, 60696, 60758,\n",
       "        60804, 60892, 60964, 61016, 61039, 61084, 61104, 61106, 61146,\n",
       "        61208, 61277, 61291, 61332, 61466, 61524, 61546, 61547, 61734,\n",
       "        61740, 61849, 61959, 62075, 62279, 62382, 62516, 62600, 62604,\n",
       "        62753, 62863, 62959, 63001, 63028, 63093, 63253, 63275, 63285,\n",
       "        63508, 63523, 63737, 63900, 63937, 64001, 64056, 64278, 64616,\n",
       "        64645, 64663, 64681, 64695, 64867, 64949, 64997, 65108, 65160,\n",
       "        65472, 65529, 65696, 65697, 65727, 65746, 65995, 66077, 66140,\n",
       "        66141, 66230, 66238, 66335, 66348, 66683, 66784, 66801, 66968,\n",
       "        67034, 67053, 67073, 67107, 67213, 67332, 67387, 67419, 67514,\n",
       "        67666, 67891, 68447, 68508, 68511, 68747, 69015, 69249, 69301,\n",
       "        69511, 69590, 69627, 69980, 70004, 70076, 70122, 70191, 70216,\n",
       "        70325, 70426, 70464, 70696, 70959, 70990, 71139, 71334, 71481,\n",
       "        71598, 71638, 72086, 72133, 72153, 72239, 72248, 72311, 72577,\n",
       "        72662, 72955, 72977, 73112, 73253, 73279, 73361, 73408, 73607,\n",
       "        73621, 73651, 73716, 73881, 73930, 74035, 74053, 74380, 74409,\n",
       "        74624, 74692, 74975, 75072, 75135, 75189, 75215, 75231, 75264,\n",
       "        75488, 75749, 75824, 75932, 76042, 76111, 76216, 76308, 76398,\n",
       "        76456, 76687, 76887, 77027, 77074, 77156, 77221, 77298, 77443,\n",
       "        77986, 77991, 77998, 78156, 78269, 78304, 78408, 78595, 78718,\n",
       "        78723, 78767, 78910, 79115, 79246, 79378, 79428, 79450, 79508,\n",
       "        79614, 79701, 79711, 80056, 80603, 80745, 81378, 81716, 82125,\n",
       "        82292, 82379, 82566, 82717, 82808, 83376, 83490, 83563, 83699,\n",
       "        84258, 84293, 84314, 84417, 84528, 84655, 84681, 84770, 84784,\n",
       "        84801, 84946, 85011, 85019, 85058, 85164, 85165, 85298, 85474,\n",
       "        85809, 86035, 86123, 86288, 86356, 86610, 86629, 86829, 86875,\n",
       "        86995, 87019, 87030, 87165, 87331, 87444, 87575, 87627, 88194,\n",
       "        88223, 88671, 88868, 88879, 88995, 89248, 89311, 89398, 89669,\n",
       "        89862, 89878, 89905, 89980, 90041, 90080, 90893, 91104, 91109,\n",
       "        91208, 91212, 91289, 91457, 91782, 92062, 92130, 92366, 92501,\n",
       "        93076, 93105, 93355, 93587, 93629, 93790, 93806, 93846, 94112,\n",
       "        94273, 94512, 94602, 94645, 94701, 94776, 94873, 94902, 94930,\n",
       "        95058, 95076, 95145, 95411, 95415, 95416, 95421, 95551, 95678,\n",
       "        95723, 95837, 95963, 96153, 96254, 96375, 96398, 96424, 96451,\n",
       "        96788, 96871, 97059, 97063, 97102, 97105, 97138, 97153, 97157,\n",
       "        97176, 97205, 97301, 97533, 97662, 97708, 97785, 97793, 97812,\n",
       "        97929, 98081, 98290, 98325, 98429, 98479, 98525, 98642, 98678,\n",
       "        99411, 99532, 99775, 99861, 99866, 99905]),)"
      ]
     },
     "execution_count": 35,
     "metadata": {},
     "output_type": "execute_result"
    }
   ],
   "source": [
    "np.nonzero(data)"
   ]
  },
  {
   "cell_type": "code",
   "execution_count": null,
   "metadata": {},
   "outputs": [],
   "source": []
  }
 ],
 "metadata": {
  "kernelspec": {
   "display_name": "readdy",
   "language": "python",
   "name": "readdy"
  },
  "language_info": {
   "codemirror_mode": {
    "name": "ipython",
    "version": 3
   },
   "file_extension": ".py",
   "mimetype": "text/x-python",
   "name": "python",
   "nbconvert_exporter": "python",
   "pygments_lexer": "ipython3",
   "version": "3.8.6"
  }
 },
 "nbformat": 4,
 "nbformat_minor": 2
}
