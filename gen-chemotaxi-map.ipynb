{
 "cells": [
  {
   "cell_type": "code",
   "execution_count": 2,
   "metadata": {},
   "outputs": [],
   "source": [
    "import numpy as np\n",
    "import readdy\n",
    "from readdy.api.utils import load_trajectory_to_npy\n",
    "import os\n",
    "import sys\n",
    "from datetime import datetime\n",
    "from itertools import product\n",
    "import matplotlib.pyplot as plt\n",
    "from matplotlib import cm"
   ]
  },
  {
   "cell_type": "code",
   "execution_count": 3,
   "metadata": {},
   "outputs": [],
   "source": [
    "plt.style.use(\"mystyle-paper.mplstyle\")"
   ]
  },
  {
   "cell_type": "code",
   "execution_count": 4,
   "metadata": {},
   "outputs": [],
   "source": [
    "PD_rates=[0.0001,0.0005,0.001,0.005,0.01]\n",
    "MCP_rates=[0.0,0.0001,0.0005,0.001,0.005,0.01]\n",
    "U_v=[0.0,10.0,50.0]\n",
    "#U_v=[50.0]\n",
    "repeat=[1.0,2.0,3.0,4.0,5.0]"
   ]
  },
  {
   "cell_type": "code",
   "execution_count": 5,
   "metadata": {},
   "outputs": [],
   "source": [
    "def get_mean(file,n_mcp=15,plot=False):\n",
    "    end=4000\n",
    "    s=10\n",
    "    try:\n",
    "        n_particles_per_frame, positions, types, ids = load_trajectory_to_npy(\n",
    "            file,begin=0,stride=s)\n",
    "    except (RuntimeError,FileNotFoundError) as e:\n",
    "        print (f\"File {file} not finished: {e}\")\n",
    "        return np.nan\n",
    "    if (len(positions[:,0,1])<end):\n",
    "        print(f\"file to short {len(positions[:,0,1])}\")\n",
    "        return np.nan\n",
    "    \n",
    "    #n_particles_per_frame, positions, types, ids = t.to_numpy(start=0,stride=100)\n",
    "    if (plot):\n",
    "        plt.figure()\n",
    "        #plt.title(file)\n",
    "        plt.plot(n_particles_per_frame)\n",
    "        plt.figure()\n",
    "        #plt.title(file)\n",
    "        plt.plot(np.mean(positions[:,0:n_mcp,1],axis=1))\n",
    "    \n",
    "    return np.mean(np.mean(positions[:end,0:n_mcp,1],axis=1))\n",
    "    #return np.mean(np.mean(np.diff(positions[:end,0:n_mcp,1],axis=1)))\n",
    "    #return np.mean(positions[end,0:n_mcp,1])"
   ]
  },
  {
   "cell_type": "code",
   "execution_count": 6,
   "metadata": {},
   "outputs": [],
   "source": [
    "def get_PD(file):\n",
    "    try:\n",
    "    #t = readdy.Trajectory(file)\n",
    "    #    if (os.path.getsize(file) > 300000000 ):\n",
    "    #        s=100\n",
    "    #    else:\n",
    "    #        s=10\n",
    "        s=100\n",
    "        n_particles_per_frame, positions, types, ids = load_trajectory_to_npy(\n",
    "    file,begin=0,stride=s)\n",
    "    except (RuntimeError,FileNotFoundError) as e:\n",
    "        print (f\"File {file} not finished: {e}\")\n",
    "        return np.nan\n",
    "\n",
    "    return n_particles_per_frame"
   ]
  },
  {
   "cell_type": "code",
   "execution_count": 7,
   "metadata": {},
   "outputs": [],
   "source": [
    "def gen_xyz(file):\n",
    "    t = readdy.Trajectory(file)\n",
    "    t.convert_to_xyz(particle_radii={'PD_S': 10,'PD':1,'MCP':62})"
   ]
  },
  {
   "cell_type": "code",
   "execution_count": 8,
   "metadata": {},
   "outputs": [],
   "source": [
    "def distance_end(file,n_mcp=15):\n",
    "    n_particles_per_frame, positions, types, ids = load_trajectory_to_npy(\n",
    "        file,begin=0,stride=1000)\n",
    "    return(np.linalg.norm(positions[-1,1:n_mcp]-positions[-1,0],axis=1))"
   ]
  },
  {
   "cell_type": "code",
   "execution_count": 9,
   "metadata": {},
   "outputs": [],
   "source": [
    "def collect_data(folder):\n",
    "    data=np.empty([len(PD_rates),len(MCP_rates),len(U_v)])\n",
    "    err=np.empty([len(PD_rates),len(MCP_rates),len(U_v)])\n",
    "    for pd,i in zip(PD_rates,range(len(PD_rates))):\n",
    "        for mcp,j in zip(MCP_rates,range(len(MCP_rates))):\n",
    "            for U,m in zip(U_v,range(len(U_v))):\n",
    "                tmp=[]\n",
    "                for r in repeat:\n",
    "                    file=f\"{folder}/gradient_R1R2_{pd}_{mcp}_{U}_{r}.h5\"\n",
    "                    #print(file)\n",
    "                    tmp.append(get_mean(file))\n",
    "                #print(tmp)\n",
    "                data[i,j,m]=np.nanmean(tmp)\n",
    "                err[i,j,m]=np.nanstd(tmp)\n",
    "    return [data,err]"
   ]
  },
  {
   "cell_type": "code",
   "execution_count": 10,
   "metadata": {},
   "outputs": [
    {
     "name": "stdout",
     "output_type": "stream",
     "text": [
      "File gradient_R1R2/gradient_R1R2_0.0001_0.0_0.0_4.0.h5 not finished: Failed on opening/creating file gradient_R1R2/gradient_R1R2_0.0001_0.0_0.0_4.0.h5: (File accessibilty) Unable to open file\n",
      "(Virtual File Layer) Unable to initialize object\n",
      "(File accessibilty) Unable to open file\n",
      "(File accessibilty) Unable to open file\n",
      "(File accessibilty) Unable to open file\n",
      "\n",
      "File gradient_R1R2/gradient_R1R2_0.0001_0.0_0.0_5.0.h5 not finished: Failed on opening/creating file gradient_R1R2/gradient_R1R2_0.0001_0.0_0.0_5.0.h5: (File accessibilty) Unable to open file\n",
      "(Virtual File Layer) Unable to initialize object\n",
      "(File accessibilty) Unable to open file\n",
      "(File accessibilty) Unable to open file\n",
      "(File accessibilty) Unable to open file\n",
      "\n",
      "File gradient_R1R2/gradient_R1R2_0.0001_0.0_10.0_4.0.h5 not finished: Failed on opening/creating file gradient_R1R2/gradient_R1R2_0.0001_0.0_10.0_4.0.h5: (File accessibilty) Unable to open file\n",
      "(Virtual File Layer) Unable to initialize object\n",
      "(File accessibilty) Unable to open file\n",
      "(File accessibilty) Unable to open file\n",
      "(File accessibilty) Unable to open file\n",
      "\n",
      "File gradient_R1R2/gradient_R1R2_0.0001_0.0_10.0_5.0.h5 not finished: Failed on opening/creating file gradient_R1R2/gradient_R1R2_0.0001_0.0_10.0_5.0.h5: (File accessibilty) Unable to open file\n",
      "(Virtual File Layer) Unable to initialize object\n",
      "(File accessibilty) Unable to open file\n",
      "(File accessibilty) Unable to open file\n",
      "(File accessibilty) Unable to open file\n",
      "\n",
      "File gradient_R1R2/gradient_R1R2_0.0001_0.0001_0.0_1.0.h5 not finished: Failed on opening/creating file gradient_R1R2/gradient_R1R2_0.0001_0.0001_0.0_1.0.h5: (File accessibilty) Unable to open file\n",
      "(Virtual File Layer) Unable to initialize object\n",
      "(File accessibilty) Unable to open file\n",
      "(File accessibilty) Unable to open file\n",
      "(File accessibilty) Unable to open file\n",
      "\n",
      "File gradient_R1R2/gradient_R1R2_0.0001_0.0001_0.0_2.0.h5 not finished: Failed on opening/creating file gradient_R1R2/gradient_R1R2_0.0001_0.0001_0.0_2.0.h5: (File accessibilty) Unable to open file\n",
      "(Virtual File Layer) Unable to initialize object\n",
      "(File accessibilty) Unable to open file\n",
      "(File accessibilty) Unable to open file\n",
      "(File accessibilty) Unable to open file\n",
      "\n",
      "File gradient_R1R2/gradient_R1R2_0.0001_0.0001_0.0_3.0.h5 not finished: Failed on opening/creating file gradient_R1R2/gradient_R1R2_0.0001_0.0001_0.0_3.0.h5: (File accessibilty) Unable to open file\n",
      "(Virtual File Layer) Unable to initialize object\n",
      "(File accessibilty) Unable to open file\n",
      "(File accessibilty) Unable to open file\n",
      "(File accessibilty) Unable to open file\n",
      "\n",
      "File gradient_R1R2/gradient_R1R2_0.0001_0.0001_0.0_4.0.h5 not finished: Failed on opening/creating file gradient_R1R2/gradient_R1R2_0.0001_0.0001_0.0_4.0.h5: (File accessibilty) Unable to open file\n",
      "(Virtual File Layer) Unable to initialize object\n",
      "(File accessibilty) Unable to open file\n",
      "(File accessibilty) Unable to open file\n",
      "(File accessibilty) Unable to open file\n",
      "\n",
      "File gradient_R1R2/gradient_R1R2_0.0001_0.0001_0.0_5.0.h5 not finished: Failed on opening/creating file gradient_R1R2/gradient_R1R2_0.0001_0.0001_0.0_5.0.h5: (File accessibilty) Unable to open file\n",
      "(Virtual File Layer) Unable to initialize object\n",
      "(File accessibilty) Unable to open file\n",
      "(File accessibilty) Unable to open file\n",
      "(File accessibilty) Unable to open file\n",
      "\n"
     ]
    },
    {
     "name": "stderr",
     "output_type": "stream",
     "text": [
      "<ipython-input-9-24037bfe631d>:13: RuntimeWarning: Mean of empty slice\n",
      "  data[i,j,m]=np.nanmean(tmp)\n",
      "/home/jsk6732/.conda/envs/readdy/lib/python3.8/site-packages/numpy/lib/nanfunctions.py:1664: RuntimeWarning: Degrees of freedom <= 0 for slice.\n",
      "  var = nanvar(a, axis=axis, dtype=dtype, out=out, ddof=ddof,\n"
     ]
    },
    {
     "name": "stdout",
     "output_type": "stream",
     "text": [
      "File gradient_R1R2/gradient_R1R2_0.0001_0.0001_10.0_4.0.h5 not finished: Failed on opening/creating file gradient_R1R2/gradient_R1R2_0.0001_0.0001_10.0_4.0.h5: (File accessibilty) Unable to open file\n",
      "(Virtual File Layer) Unable to initialize object\n",
      "(File accessibilty) Unable to open file\n",
      "(File accessibilty) Unable to open file\n",
      "(File accessibilty) Unable to open file\n",
      "\n",
      "File gradient_R1R2/gradient_R1R2_0.0001_0.0001_10.0_5.0.h5 not finished: Failed on opening/creating file gradient_R1R2/gradient_R1R2_0.0001_0.0001_10.0_5.0.h5: (File accessibilty) Unable to open file\n",
      "(Virtual File Layer) Unable to initialize object\n",
      "(File accessibilty) Unable to open file\n",
      "(File accessibilty) Unable to open file\n",
      "(File accessibilty) Unable to open file\n",
      "\n",
      "File gradient_R1R2/gradient_R1R2_0.0001_0.0005_0.0_1.0.h5 not finished: Failed on opening/creating file gradient_R1R2/gradient_R1R2_0.0001_0.0005_0.0_1.0.h5: (File accessibilty) Unable to open file\n",
      "(Virtual File Layer) Unable to initialize object\n",
      "(File accessibilty) Unable to open file\n",
      "(File accessibilty) Unable to open file\n",
      "(File accessibilty) Unable to open file\n",
      "\n",
      "File gradient_R1R2/gradient_R1R2_0.0001_0.0005_0.0_2.0.h5 not finished: Failed on opening/creating file gradient_R1R2/gradient_R1R2_0.0001_0.0005_0.0_2.0.h5: (File accessibilty) Unable to open file\n",
      "(Virtual File Layer) Unable to initialize object\n",
      "(File accessibilty) Unable to open file\n",
      "(File accessibilty) Unable to open file\n",
      "(File accessibilty) Unable to open file\n",
      "\n",
      "File gradient_R1R2/gradient_R1R2_0.0001_0.0005_0.0_3.0.h5 not finished: Failed on opening/creating file gradient_R1R2/gradient_R1R2_0.0001_0.0005_0.0_3.0.h5: (File accessibilty) Unable to open file\n",
      "(Virtual File Layer) Unable to initialize object\n",
      "(File accessibilty) Unable to open file\n",
      "(File accessibilty) Unable to open file\n",
      "(File accessibilty) Unable to open file\n",
      "\n",
      "File gradient_R1R2/gradient_R1R2_0.0001_0.0005_0.0_4.0.h5 not finished: Failed on opening/creating file gradient_R1R2/gradient_R1R2_0.0001_0.0005_0.0_4.0.h5: (File accessibilty) Unable to open file\n",
      "(Virtual File Layer) Unable to initialize object\n",
      "(File accessibilty) Unable to open file\n",
      "(File accessibilty) Unable to open file\n",
      "(File accessibilty) Unable to open file\n",
      "\n",
      "File gradient_R1R2/gradient_R1R2_0.0001_0.0005_0.0_5.0.h5 not finished: Failed on opening/creating file gradient_R1R2/gradient_R1R2_0.0001_0.0005_0.0_5.0.h5: (File accessibilty) Unable to open file\n",
      "(Virtual File Layer) Unable to initialize object\n",
      "(File accessibilty) Unable to open file\n",
      "(File accessibilty) Unable to open file\n",
      "(File accessibilty) Unable to open file\n",
      "\n",
      "File gradient_R1R2/gradient_R1R2_0.0001_0.0005_10.0_4.0.h5 not finished: Failed on opening/creating file gradient_R1R2/gradient_R1R2_0.0001_0.0005_10.0_4.0.h5: (File accessibilty) Unable to open file\n",
      "(Virtual File Layer) Unable to initialize object\n",
      "(File accessibilty) Unable to open file\n",
      "(File accessibilty) Unable to open file\n",
      "(File accessibilty) Unable to open file\n",
      "\n",
      "File gradient_R1R2/gradient_R1R2_0.0001_0.0005_10.0_5.0.h5 not finished: Failed on opening/creating file gradient_R1R2/gradient_R1R2_0.0001_0.0005_10.0_5.0.h5: (File accessibilty) Unable to open file\n",
      "(Virtual File Layer) Unable to initialize object\n",
      "(File accessibilty) Unable to open file\n",
      "(File accessibilty) Unable to open file\n",
      "(File accessibilty) Unable to open file\n",
      "\n",
      "File gradient_R1R2/gradient_R1R2_0.0001_0.001_0.0_1.0.h5 not finished: Failed on opening/creating file gradient_R1R2/gradient_R1R2_0.0001_0.001_0.0_1.0.h5: (File accessibilty) Unable to open file\n",
      "(Virtual File Layer) Unable to initialize object\n",
      "(File accessibilty) Unable to open file\n",
      "(File accessibilty) Unable to open file\n",
      "(File accessibilty) Unable to open file\n",
      "\n",
      "File gradient_R1R2/gradient_R1R2_0.0001_0.001_0.0_2.0.h5 not finished: Failed on opening/creating file gradient_R1R2/gradient_R1R2_0.0001_0.001_0.0_2.0.h5: (File accessibilty) Unable to open file\n",
      "(Virtual File Layer) Unable to initialize object\n",
      "(File accessibilty) Unable to open file\n",
      "(File accessibilty) Unable to open file\n",
      "(File accessibilty) Unable to open file\n",
      "\n",
      "File gradient_R1R2/gradient_R1R2_0.0001_0.001_0.0_3.0.h5 not finished: Failed on opening/creating file gradient_R1R2/gradient_R1R2_0.0001_0.001_0.0_3.0.h5: (File accessibilty) Unable to open file\n",
      "(Virtual File Layer) Unable to initialize object\n",
      "(File accessibilty) Unable to open file\n",
      "(File accessibilty) Unable to open file\n",
      "(File accessibilty) Unable to open file\n",
      "\n",
      "File gradient_R1R2/gradient_R1R2_0.0001_0.001_0.0_4.0.h5 not finished: Failed on opening/creating file gradient_R1R2/gradient_R1R2_0.0001_0.001_0.0_4.0.h5: (File accessibilty) Unable to open file\n",
      "(Virtual File Layer) Unable to initialize object\n",
      "(File accessibilty) Unable to open file\n",
      "(File accessibilty) Unable to open file\n",
      "(File accessibilty) Unable to open file\n",
      "\n",
      "File gradient_R1R2/gradient_R1R2_0.0001_0.001_0.0_5.0.h5 not finished: Failed on opening/creating file gradient_R1R2/gradient_R1R2_0.0001_0.001_0.0_5.0.h5: (File accessibilty) Unable to open file\n",
      "(Virtual File Layer) Unable to initialize object\n",
      "(File accessibilty) Unable to open file\n",
      "(File accessibilty) Unable to open file\n",
      "(File accessibilty) Unable to open file\n",
      "\n",
      "File gradient_R1R2/gradient_R1R2_0.0001_0.001_10.0_4.0.h5 not finished: Failed on opening/creating file gradient_R1R2/gradient_R1R2_0.0001_0.001_10.0_4.0.h5: (File accessibilty) Unable to open file\n",
      "(Virtual File Layer) Unable to initialize object\n",
      "(File accessibilty) Unable to open file\n",
      "(File accessibilty) Unable to open file\n",
      "(File accessibilty) Unable to open file\n",
      "\n",
      "File gradient_R1R2/gradient_R1R2_0.0001_0.001_10.0_5.0.h5 not finished: Failed on opening/creating file gradient_R1R2/gradient_R1R2_0.0001_0.001_10.0_5.0.h5: (File accessibilty) Unable to open file\n",
      "(Virtual File Layer) Unable to initialize object\n",
      "(File accessibilty) Unable to open file\n",
      "(File accessibilty) Unable to open file\n",
      "(File accessibilty) Unable to open file\n",
      "\n",
      "File gradient_R1R2/gradient_R1R2_0.0001_0.005_0.0_1.0.h5 not finished: Failed on opening/creating file gradient_R1R2/gradient_R1R2_0.0001_0.005_0.0_1.0.h5: (File accessibilty) Unable to open file\n",
      "(Virtual File Layer) Unable to initialize object\n",
      "(File accessibilty) Unable to open file\n",
      "(File accessibilty) Unable to open file\n",
      "(File accessibilty) Unable to open file\n",
      "\n",
      "File gradient_R1R2/gradient_R1R2_0.0001_0.005_0.0_2.0.h5 not finished: Failed on opening/creating file gradient_R1R2/gradient_R1R2_0.0001_0.005_0.0_2.0.h5: (File accessibilty) Unable to open file\n",
      "(Virtual File Layer) Unable to initialize object\n",
      "(File accessibilty) Unable to open file\n",
      "(File accessibilty) Unable to open file\n",
      "(File accessibilty) Unable to open file\n",
      "\n",
      "File gradient_R1R2/gradient_R1R2_0.0001_0.005_0.0_3.0.h5 not finished: Failed on opening/creating file gradient_R1R2/gradient_R1R2_0.0001_0.005_0.0_3.0.h5: (File accessibilty) Unable to open file\n",
      "(Virtual File Layer) Unable to initialize object\n",
      "(File accessibilty) Unable to open file\n",
      "(File accessibilty) Unable to open file\n",
      "(File accessibilty) Unable to open file\n",
      "\n",
      "File gradient_R1R2/gradient_R1R2_0.0001_0.005_0.0_4.0.h5 not finished: Failed on opening/creating file gradient_R1R2/gradient_R1R2_0.0001_0.005_0.0_4.0.h5: (File accessibilty) Unable to open file\n",
      "(Virtual File Layer) Unable to initialize object\n",
      "(File accessibilty) Unable to open file\n",
      "(File accessibilty) Unable to open file\n",
      "(File accessibilty) Unable to open file\n",
      "\n",
      "File gradient_R1R2/gradient_R1R2_0.0001_0.005_0.0_5.0.h5 not finished: Failed on opening/creating file gradient_R1R2/gradient_R1R2_0.0001_0.005_0.0_5.0.h5: (File accessibilty) Unable to open file\n",
      "(Virtual File Layer) Unable to initialize object\n",
      "(File accessibilty) Unable to open file\n",
      "(File accessibilty) Unable to open file\n",
      "(File accessibilty) Unable to open file\n",
      "\n",
      "File gradient_R1R2/gradient_R1R2_0.0001_0.005_10.0_4.0.h5 not finished: Failed on opening/creating file gradient_R1R2/gradient_R1R2_0.0001_0.005_10.0_4.0.h5: (File accessibilty) Unable to open file\n",
      "(Virtual File Layer) Unable to initialize object\n",
      "(File accessibilty) Unable to open file\n",
      "(File accessibilty) Unable to open file\n",
      "(File accessibilty) Unable to open file\n",
      "\n",
      "File gradient_R1R2/gradient_R1R2_0.0001_0.005_10.0_5.0.h5 not finished: Failed on opening/creating file gradient_R1R2/gradient_R1R2_0.0001_0.005_10.0_5.0.h5: (File accessibilty) Unable to open file\n",
      "(Virtual File Layer) Unable to initialize object\n",
      "(File accessibilty) Unable to open file\n",
      "(File accessibilty) Unable to open file\n",
      "(File accessibilty) Unable to open file\n",
      "\n"
     ]
    },
    {
     "name": "stdout",
     "output_type": "stream",
     "text": [
      "File gradient_R1R2/gradient_R1R2_0.0001_0.01_0.0_1.0.h5 not finished: Failed on opening/creating file gradient_R1R2/gradient_R1R2_0.0001_0.01_0.0_1.0.h5: (File accessibilty) Unable to open file\n",
      "(Virtual File Layer) Unable to initialize object\n",
      "(File accessibilty) Unable to open file\n",
      "(File accessibilty) Unable to open file\n",
      "(File accessibilty) Unable to open file\n",
      "\n",
      "File gradient_R1R2/gradient_R1R2_0.0001_0.01_0.0_2.0.h5 not finished: Failed on opening/creating file gradient_R1R2/gradient_R1R2_0.0001_0.01_0.0_2.0.h5: (File accessibilty) Unable to open file\n",
      "(Virtual File Layer) Unable to initialize object\n",
      "(File accessibilty) Unable to open file\n",
      "(File accessibilty) Unable to open file\n",
      "(File accessibilty) Unable to open file\n",
      "\n",
      "File gradient_R1R2/gradient_R1R2_0.0001_0.01_0.0_3.0.h5 not finished: Failed on opening/creating file gradient_R1R2/gradient_R1R2_0.0001_0.01_0.0_3.0.h5: (File accessibilty) Unable to open file\n",
      "(Virtual File Layer) Unable to initialize object\n",
      "(File accessibilty) Unable to open file\n",
      "(File accessibilty) Unable to open file\n",
      "(File accessibilty) Unable to open file\n",
      "\n",
      "File gradient_R1R2/gradient_R1R2_0.0001_0.01_0.0_4.0.h5 not finished: Failed on opening/creating file gradient_R1R2/gradient_R1R2_0.0001_0.01_0.0_4.0.h5: (File accessibilty) Unable to open file\n",
      "(Virtual File Layer) Unable to initialize object\n",
      "(File accessibilty) Unable to open file\n",
      "(File accessibilty) Unable to open file\n",
      "(File accessibilty) Unable to open file\n",
      "\n",
      "File gradient_R1R2/gradient_R1R2_0.0001_0.01_0.0_5.0.h5 not finished: Failed on opening/creating file gradient_R1R2/gradient_R1R2_0.0001_0.01_0.0_5.0.h5: (File accessibilty) Unable to open file\n",
      "(Virtual File Layer) Unable to initialize object\n",
      "(File accessibilty) Unable to open file\n",
      "(File accessibilty) Unable to open file\n",
      "(File accessibilty) Unable to open file\n",
      "\n",
      "File gradient_R1R2/gradient_R1R2_0.0001_0.01_10.0_4.0.h5 not finished: Failed on opening/creating file gradient_R1R2/gradient_R1R2_0.0001_0.01_10.0_4.0.h5: (File accessibilty) Unable to open file\n",
      "(Virtual File Layer) Unable to initialize object\n",
      "(File accessibilty) Unable to open file\n",
      "(File accessibilty) Unable to open file\n",
      "(File accessibilty) Unable to open file\n",
      "\n",
      "File gradient_R1R2/gradient_R1R2_0.0001_0.01_10.0_5.0.h5 not finished: Failed on opening/creating file gradient_R1R2/gradient_R1R2_0.0001_0.01_10.0_5.0.h5: (File accessibilty) Unable to open file\n",
      "(Virtual File Layer) Unable to initialize object\n",
      "(File accessibilty) Unable to open file\n",
      "(File accessibilty) Unable to open file\n",
      "(File accessibilty) Unable to open file\n",
      "\n",
      "File gradient_R1R2/gradient_R1R2_0.0005_0.0_0.0_4.0.h5 not finished: Failed on opening/creating file gradient_R1R2/gradient_R1R2_0.0005_0.0_0.0_4.0.h5: (File accessibilty) Unable to open file\n",
      "(Virtual File Layer) Unable to initialize object\n",
      "(File accessibilty) Unable to open file\n",
      "(File accessibilty) Unable to open file\n",
      "(File accessibilty) Unable to open file\n",
      "\n",
      "File gradient_R1R2/gradient_R1R2_0.0005_0.0_0.0_5.0.h5 not finished: Failed on opening/creating file gradient_R1R2/gradient_R1R2_0.0005_0.0_0.0_5.0.h5: (File accessibilty) Unable to open file\n",
      "(Virtual File Layer) Unable to initialize object\n",
      "(File accessibilty) Unable to open file\n",
      "(File accessibilty) Unable to open file\n",
      "(File accessibilty) Unable to open file\n",
      "\n",
      "File gradient_R1R2/gradient_R1R2_0.0005_0.0_10.0_4.0.h5 not finished: Failed on opening/creating file gradient_R1R2/gradient_R1R2_0.0005_0.0_10.0_4.0.h5: (File accessibilty) Unable to open file\n",
      "(Virtual File Layer) Unable to initialize object\n",
      "(File accessibilty) Unable to open file\n",
      "(File accessibilty) Unable to open file\n",
      "(File accessibilty) Unable to open file\n",
      "\n",
      "File gradient_R1R2/gradient_R1R2_0.0005_0.0_10.0_5.0.h5 not finished: Failed on opening/creating file gradient_R1R2/gradient_R1R2_0.0005_0.0_10.0_5.0.h5: (File accessibilty) Unable to open file\n",
      "(Virtual File Layer) Unable to initialize object\n",
      "(File accessibilty) Unable to open file\n",
      "(File accessibilty) Unable to open file\n",
      "(File accessibilty) Unable to open file\n",
      "\n",
      "File gradient_R1R2/gradient_R1R2_0.0005_0.0001_0.0_1.0.h5 not finished: Failed on opening/creating file gradient_R1R2/gradient_R1R2_0.0005_0.0001_0.0_1.0.h5: (File accessibilty) Unable to open file\n",
      "(Virtual File Layer) Unable to initialize object\n",
      "(File accessibilty) Unable to open file\n",
      "(File accessibilty) Unable to open file\n",
      "(File accessibilty) Unable to open file\n",
      "\n",
      "File gradient_R1R2/gradient_R1R2_0.0005_0.0001_0.0_2.0.h5 not finished: Failed on opening/creating file gradient_R1R2/gradient_R1R2_0.0005_0.0001_0.0_2.0.h5: (File accessibilty) Unable to open file\n",
      "(Virtual File Layer) Unable to initialize object\n",
      "(File accessibilty) Unable to open file\n",
      "(File accessibilty) Unable to open file\n",
      "(File accessibilty) Unable to open file\n",
      "\n",
      "File gradient_R1R2/gradient_R1R2_0.0005_0.0001_0.0_3.0.h5 not finished: Failed on opening/creating file gradient_R1R2/gradient_R1R2_0.0005_0.0001_0.0_3.0.h5: (File accessibilty) Unable to open file\n",
      "(Virtual File Layer) Unable to initialize object\n",
      "(File accessibilty) Unable to open file\n",
      "(File accessibilty) Unable to open file\n",
      "(File accessibilty) Unable to open file\n",
      "\n",
      "File gradient_R1R2/gradient_R1R2_0.0005_0.0001_0.0_4.0.h5 not finished: Failed on opening/creating file gradient_R1R2/gradient_R1R2_0.0005_0.0001_0.0_4.0.h5: (File accessibilty) Unable to open file\n",
      "(Virtual File Layer) Unable to initialize object\n",
      "(File accessibilty) Unable to open file\n",
      "(File accessibilty) Unable to open file\n",
      "(File accessibilty) Unable to open file\n",
      "\n",
      "File gradient_R1R2/gradient_R1R2_0.0005_0.0001_0.0_5.0.h5 not finished: Failed on opening/creating file gradient_R1R2/gradient_R1R2_0.0005_0.0001_0.0_5.0.h5: (File accessibilty) Unable to open file\n",
      "(Virtual File Layer) Unable to initialize object\n",
      "(File accessibilty) Unable to open file\n",
      "(File accessibilty) Unable to open file\n",
      "(File accessibilty) Unable to open file\n",
      "\n",
      "File gradient_R1R2/gradient_R1R2_0.0005_0.0001_10.0_4.0.h5 not finished: Failed on opening/creating file gradient_R1R2/gradient_R1R2_0.0005_0.0001_10.0_4.0.h5: (File accessibilty) Unable to open file\n",
      "(Virtual File Layer) Unable to initialize object\n",
      "(File accessibilty) Unable to open file\n",
      "(File accessibilty) Unable to open file\n",
      "(File accessibilty) Unable to open file\n",
      "\n",
      "File gradient_R1R2/gradient_R1R2_0.0005_0.0001_10.0_5.0.h5 not finished: Failed on opening/creating file gradient_R1R2/gradient_R1R2_0.0005_0.0001_10.0_5.0.h5: (File accessibilty) Unable to open file\n",
      "(Virtual File Layer) Unable to initialize object\n",
      "(File accessibilty) Unable to open file\n",
      "(File accessibilty) Unable to open file\n",
      "(File accessibilty) Unable to open file\n",
      "\n",
      "File gradient_R1R2/gradient_R1R2_0.0005_0.0005_0.0_1.0.h5 not finished: Failed on opening/creating file gradient_R1R2/gradient_R1R2_0.0005_0.0005_0.0_1.0.h5: (File accessibilty) Unable to open file\n",
      "(Virtual File Layer) Unable to initialize object\n",
      "(File accessibilty) Unable to open file\n",
      "(File accessibilty) Unable to open file\n",
      "(File accessibilty) Unable to open file\n",
      "\n",
      "File gradient_R1R2/gradient_R1R2_0.0005_0.0005_0.0_2.0.h5 not finished: Failed on opening/creating file gradient_R1R2/gradient_R1R2_0.0005_0.0005_0.0_2.0.h5: (File accessibilty) Unable to open file\n",
      "(Virtual File Layer) Unable to initialize object\n",
      "(File accessibilty) Unable to open file\n",
      "(File accessibilty) Unable to open file\n",
      "(File accessibilty) Unable to open file\n",
      "\n",
      "File gradient_R1R2/gradient_R1R2_0.0005_0.0005_0.0_3.0.h5 not finished: Failed on opening/creating file gradient_R1R2/gradient_R1R2_0.0005_0.0005_0.0_3.0.h5: (File accessibilty) Unable to open file\n",
      "(Virtual File Layer) Unable to initialize object\n",
      "(File accessibilty) Unable to open file\n",
      "(File accessibilty) Unable to open file\n",
      "(File accessibilty) Unable to open file\n",
      "\n",
      "File gradient_R1R2/gradient_R1R2_0.0005_0.0005_0.0_4.0.h5 not finished: Failed on opening/creating file gradient_R1R2/gradient_R1R2_0.0005_0.0005_0.0_4.0.h5: (File accessibilty) Unable to open file\n",
      "(Virtual File Layer) Unable to initialize object\n",
      "(File accessibilty) Unable to open file\n",
      "(File accessibilty) Unable to open file\n",
      "(File accessibilty) Unable to open file\n",
      "\n",
      "File gradient_R1R2/gradient_R1R2_0.0005_0.0005_0.0_5.0.h5 not finished: Failed on opening/creating file gradient_R1R2/gradient_R1R2_0.0005_0.0005_0.0_5.0.h5: (File accessibilty) Unable to open file\n",
      "(Virtual File Layer) Unable to initialize object\n",
      "(File accessibilty) Unable to open file\n",
      "(File accessibilty) Unable to open file\n",
      "(File accessibilty) Unable to open file\n",
      "\n"
     ]
    },
    {
     "name": "stdout",
     "output_type": "stream",
     "text": [
      "File gradient_R1R2/gradient_R1R2_0.0005_0.0005_10.0_4.0.h5 not finished: Failed on opening/creating file gradient_R1R2/gradient_R1R2_0.0005_0.0005_10.0_4.0.h5: (File accessibilty) Unable to open file\n",
      "(Virtual File Layer) Unable to initialize object\n",
      "(File accessibilty) Unable to open file\n",
      "(File accessibilty) Unable to open file\n",
      "(File accessibilty) Unable to open file\n",
      "\n",
      "File gradient_R1R2/gradient_R1R2_0.0005_0.0005_10.0_5.0.h5 not finished: Failed on opening/creating file gradient_R1R2/gradient_R1R2_0.0005_0.0005_10.0_5.0.h5: (File accessibilty) Unable to open file\n",
      "(Virtual File Layer) Unable to initialize object\n",
      "(File accessibilty) Unable to open file\n",
      "(File accessibilty) Unable to open file\n",
      "(File accessibilty) Unable to open file\n",
      "\n",
      "File gradient_R1R2/gradient_R1R2_0.0005_0.001_0.0_1.0.h5 not finished: Failed on opening/creating file gradient_R1R2/gradient_R1R2_0.0005_0.001_0.0_1.0.h5: (File accessibilty) Unable to open file\n",
      "(Virtual File Layer) Unable to initialize object\n",
      "(File accessibilty) Unable to open file\n",
      "(File accessibilty) Unable to open file\n",
      "(File accessibilty) Unable to open file\n",
      "\n",
      "File gradient_R1R2/gradient_R1R2_0.0005_0.001_0.0_2.0.h5 not finished: Failed on opening/creating file gradient_R1R2/gradient_R1R2_0.0005_0.001_0.0_2.0.h5: (File accessibilty) Unable to open file\n",
      "(Virtual File Layer) Unable to initialize object\n",
      "(File accessibilty) Unable to open file\n",
      "(File accessibilty) Unable to open file\n",
      "(File accessibilty) Unable to open file\n",
      "\n",
      "File gradient_R1R2/gradient_R1R2_0.0005_0.001_0.0_3.0.h5 not finished: Failed on opening/creating file gradient_R1R2/gradient_R1R2_0.0005_0.001_0.0_3.0.h5: (File accessibilty) Unable to open file\n",
      "(Virtual File Layer) Unable to initialize object\n",
      "(File accessibilty) Unable to open file\n",
      "(File accessibilty) Unable to open file\n",
      "(File accessibilty) Unable to open file\n",
      "\n",
      "File gradient_R1R2/gradient_R1R2_0.0005_0.001_0.0_4.0.h5 not finished: Failed on opening/creating file gradient_R1R2/gradient_R1R2_0.0005_0.001_0.0_4.0.h5: (File accessibilty) Unable to open file\n",
      "(Virtual File Layer) Unable to initialize object\n",
      "(File accessibilty) Unable to open file\n",
      "(File accessibilty) Unable to open file\n",
      "(File accessibilty) Unable to open file\n",
      "\n",
      "File gradient_R1R2/gradient_R1R2_0.0005_0.001_0.0_5.0.h5 not finished: Failed on opening/creating file gradient_R1R2/gradient_R1R2_0.0005_0.001_0.0_5.0.h5: (File accessibilty) Unable to open file\n",
      "(Virtual File Layer) Unable to initialize object\n",
      "(File accessibilty) Unable to open file\n",
      "(File accessibilty) Unable to open file\n",
      "(File accessibilty) Unable to open file\n",
      "\n",
      "File gradient_R1R2/gradient_R1R2_0.0005_0.001_10.0_4.0.h5 not finished: Failed on opening/creating file gradient_R1R2/gradient_R1R2_0.0005_0.001_10.0_4.0.h5: (File accessibilty) Unable to open file\n",
      "(Virtual File Layer) Unable to initialize object\n",
      "(File accessibilty) Unable to open file\n",
      "(File accessibilty) Unable to open file\n",
      "(File accessibilty) Unable to open file\n",
      "\n",
      "File gradient_R1R2/gradient_R1R2_0.0005_0.001_10.0_5.0.h5 not finished: Failed on opening/creating file gradient_R1R2/gradient_R1R2_0.0005_0.001_10.0_5.0.h5: (File accessibilty) Unable to open file\n",
      "(Virtual File Layer) Unable to initialize object\n",
      "(File accessibilty) Unable to open file\n",
      "(File accessibilty) Unable to open file\n",
      "(File accessibilty) Unable to open file\n",
      "\n",
      "File gradient_R1R2/gradient_R1R2_0.0005_0.005_0.0_1.0.h5 not finished: Failed on opening/creating file gradient_R1R2/gradient_R1R2_0.0005_0.005_0.0_1.0.h5: (File accessibilty) Unable to open file\n",
      "(Virtual File Layer) Unable to initialize object\n",
      "(File accessibilty) Unable to open file\n",
      "(File accessibilty) Unable to open file\n",
      "(File accessibilty) Unable to open file\n",
      "\n",
      "File gradient_R1R2/gradient_R1R2_0.0005_0.005_0.0_2.0.h5 not finished: Failed on opening/creating file gradient_R1R2/gradient_R1R2_0.0005_0.005_0.0_2.0.h5: (File accessibilty) Unable to open file\n",
      "(Virtual File Layer) Unable to initialize object\n",
      "(File accessibilty) Unable to open file\n",
      "(File accessibilty) Unable to open file\n",
      "(File accessibilty) Unable to open file\n",
      "\n",
      "File gradient_R1R2/gradient_R1R2_0.0005_0.005_0.0_3.0.h5 not finished: Failed on opening/creating file gradient_R1R2/gradient_R1R2_0.0005_0.005_0.0_3.0.h5: (File accessibilty) Unable to open file\n",
      "(Virtual File Layer) Unable to initialize object\n",
      "(File accessibilty) Unable to open file\n",
      "(File accessibilty) Unable to open file\n",
      "(File accessibilty) Unable to open file\n",
      "\n",
      "File gradient_R1R2/gradient_R1R2_0.0005_0.005_0.0_4.0.h5 not finished: Failed on opening/creating file gradient_R1R2/gradient_R1R2_0.0005_0.005_0.0_4.0.h5: (File accessibilty) Unable to open file\n",
      "(Virtual File Layer) Unable to initialize object\n",
      "(File accessibilty) Unable to open file\n",
      "(File accessibilty) Unable to open file\n",
      "(File accessibilty) Unable to open file\n",
      "\n",
      "File gradient_R1R2/gradient_R1R2_0.0005_0.005_0.0_5.0.h5 not finished: Failed on opening/creating file gradient_R1R2/gradient_R1R2_0.0005_0.005_0.0_5.0.h5: (File accessibilty) Unable to open file\n",
      "(Virtual File Layer) Unable to initialize object\n",
      "(File accessibilty) Unable to open file\n",
      "(File accessibilty) Unable to open file\n",
      "(File accessibilty) Unable to open file\n",
      "\n",
      "File gradient_R1R2/gradient_R1R2_0.0005_0.005_10.0_4.0.h5 not finished: Failed on opening/creating file gradient_R1R2/gradient_R1R2_0.0005_0.005_10.0_4.0.h5: (File accessibilty) Unable to open file\n",
      "(Virtual File Layer) Unable to initialize object\n",
      "(File accessibilty) Unable to open file\n",
      "(File accessibilty) Unable to open file\n",
      "(File accessibilty) Unable to open file\n",
      "\n",
      "File gradient_R1R2/gradient_R1R2_0.0005_0.005_10.0_5.0.h5 not finished: Failed on opening/creating file gradient_R1R2/gradient_R1R2_0.0005_0.005_10.0_5.0.h5: (File accessibilty) Unable to open file\n",
      "(Virtual File Layer) Unable to initialize object\n",
      "(File accessibilty) Unable to open file\n",
      "(File accessibilty) Unable to open file\n",
      "(File accessibilty) Unable to open file\n",
      "\n",
      "File gradient_R1R2/gradient_R1R2_0.0005_0.01_0.0_1.0.h5 not finished: Failed on opening/creating file gradient_R1R2/gradient_R1R2_0.0005_0.01_0.0_1.0.h5: (File accessibilty) Unable to open file\n",
      "(Virtual File Layer) Unable to initialize object\n",
      "(File accessibilty) Unable to open file\n",
      "(File accessibilty) Unable to open file\n",
      "(File accessibilty) Unable to open file\n",
      "\n",
      "File gradient_R1R2/gradient_R1R2_0.0005_0.01_0.0_2.0.h5 not finished: Failed on opening/creating file gradient_R1R2/gradient_R1R2_0.0005_0.01_0.0_2.0.h5: (File accessibilty) Unable to open file\n",
      "(Virtual File Layer) Unable to initialize object\n",
      "(File accessibilty) Unable to open file\n",
      "(File accessibilty) Unable to open file\n",
      "(File accessibilty) Unable to open file\n",
      "\n",
      "File gradient_R1R2/gradient_R1R2_0.0005_0.01_0.0_3.0.h5 not finished: Failed on opening/creating file gradient_R1R2/gradient_R1R2_0.0005_0.01_0.0_3.0.h5: (File accessibilty) Unable to open file\n",
      "(Virtual File Layer) Unable to initialize object\n",
      "(File accessibilty) Unable to open file\n",
      "(File accessibilty) Unable to open file\n",
      "(File accessibilty) Unable to open file\n",
      "\n",
      "File gradient_R1R2/gradient_R1R2_0.0005_0.01_0.0_4.0.h5 not finished: Failed on opening/creating file gradient_R1R2/gradient_R1R2_0.0005_0.01_0.0_4.0.h5: (File accessibilty) Unable to open file\n",
      "(Virtual File Layer) Unable to initialize object\n",
      "(File accessibilty) Unable to open file\n",
      "(File accessibilty) Unable to open file\n",
      "(File accessibilty) Unable to open file\n",
      "\n",
      "File gradient_R1R2/gradient_R1R2_0.0005_0.01_0.0_5.0.h5 not finished: Failed on opening/creating file gradient_R1R2/gradient_R1R2_0.0005_0.01_0.0_5.0.h5: (File accessibilty) Unable to open file\n",
      "(Virtual File Layer) Unable to initialize object\n",
      "(File accessibilty) Unable to open file\n",
      "(File accessibilty) Unable to open file\n",
      "(File accessibilty) Unable to open file\n",
      "\n",
      "File gradient_R1R2/gradient_R1R2_0.0005_0.01_10.0_4.0.h5 not finished: Failed on opening/creating file gradient_R1R2/gradient_R1R2_0.0005_0.01_10.0_4.0.h5: (File accessibilty) Unable to open file\n",
      "(Virtual File Layer) Unable to initialize object\n",
      "(File accessibilty) Unable to open file\n",
      "(File accessibilty) Unable to open file\n",
      "(File accessibilty) Unable to open file\n",
      "\n",
      "File gradient_R1R2/gradient_R1R2_0.0005_0.01_10.0_5.0.h5 not finished: Failed on opening/creating file gradient_R1R2/gradient_R1R2_0.0005_0.01_10.0_5.0.h5: (File accessibilty) Unable to open file\n",
      "(Virtual File Layer) Unable to initialize object\n",
      "(File accessibilty) Unable to open file\n",
      "(File accessibilty) Unable to open file\n",
      "(File accessibilty) Unable to open file\n",
      "\n"
     ]
    },
    {
     "name": "stdout",
     "output_type": "stream",
     "text": [
      "File gradient_R1R2/gradient_R1R2_0.001_0.0_0.0_4.0.h5 not finished: Failed on opening/creating file gradient_R1R2/gradient_R1R2_0.001_0.0_0.0_4.0.h5: (File accessibilty) Unable to open file\n",
      "(Virtual File Layer) Unable to initialize object\n",
      "(File accessibilty) Unable to open file\n",
      "(File accessibilty) Unable to open file\n",
      "(File accessibilty) Unable to open file\n",
      "\n",
      "File gradient_R1R2/gradient_R1R2_0.001_0.0_0.0_5.0.h5 not finished: Failed on opening/creating file gradient_R1R2/gradient_R1R2_0.001_0.0_0.0_5.0.h5: (File accessibilty) Unable to open file\n",
      "(Virtual File Layer) Unable to initialize object\n",
      "(File accessibilty) Unable to open file\n",
      "(File accessibilty) Unable to open file\n",
      "(File accessibilty) Unable to open file\n",
      "\n",
      "File gradient_R1R2/gradient_R1R2_0.001_0.0_10.0_4.0.h5 not finished: Failed on opening/creating file gradient_R1R2/gradient_R1R2_0.001_0.0_10.0_4.0.h5: (File accessibilty) Unable to open file\n",
      "(Virtual File Layer) Unable to initialize object\n",
      "(File accessibilty) Unable to open file\n",
      "(File accessibilty) Unable to open file\n",
      "(File accessibilty) Unable to open file\n",
      "\n",
      "File gradient_R1R2/gradient_R1R2_0.001_0.0_10.0_5.0.h5 not finished: Failed on opening/creating file gradient_R1R2/gradient_R1R2_0.001_0.0_10.0_5.0.h5: (File accessibilty) Unable to open file\n",
      "(Virtual File Layer) Unable to initialize object\n",
      "(File accessibilty) Unable to open file\n",
      "(File accessibilty) Unable to open file\n",
      "(File accessibilty) Unable to open file\n",
      "\n",
      "File gradient_R1R2/gradient_R1R2_0.001_0.0_50.0_1.0.h5 not finished: Failed on opening/creating file gradient_R1R2/gradient_R1R2_0.001_0.0_50.0_1.0.h5: (File accessibilty) Unable to open file\n",
      "(File accessibilty) Unable to open file\n",
      "(File accessibilty) Unable to open file\n",
      "\n",
      "File gradient_R1R2/gradient_R1R2_0.001_0.0001_0.0_1.0.h5 not finished: Failed on opening/creating file gradient_R1R2/gradient_R1R2_0.001_0.0001_0.0_1.0.h5: (File accessibilty) Unable to open file\n",
      "(Virtual File Layer) Unable to initialize object\n",
      "(File accessibilty) Unable to open file\n",
      "(File accessibilty) Unable to open file\n",
      "(File accessibilty) Unable to open file\n",
      "\n",
      "File gradient_R1R2/gradient_R1R2_0.001_0.0001_0.0_2.0.h5 not finished: Failed on opening/creating file gradient_R1R2/gradient_R1R2_0.001_0.0001_0.0_2.0.h5: (File accessibilty) Unable to open file\n",
      "(Virtual File Layer) Unable to initialize object\n",
      "(File accessibilty) Unable to open file\n",
      "(File accessibilty) Unable to open file\n",
      "(File accessibilty) Unable to open file\n",
      "\n",
      "File gradient_R1R2/gradient_R1R2_0.001_0.0001_0.0_3.0.h5 not finished: Failed on opening/creating file gradient_R1R2/gradient_R1R2_0.001_0.0001_0.0_3.0.h5: (File accessibilty) Unable to open file\n",
      "(Virtual File Layer) Unable to initialize object\n",
      "(File accessibilty) Unable to open file\n",
      "(File accessibilty) Unable to open file\n",
      "(File accessibilty) Unable to open file\n",
      "\n",
      "File gradient_R1R2/gradient_R1R2_0.001_0.0001_0.0_4.0.h5 not finished: Failed on opening/creating file gradient_R1R2/gradient_R1R2_0.001_0.0001_0.0_4.0.h5: (File accessibilty) Unable to open file\n",
      "(Virtual File Layer) Unable to initialize object\n",
      "(File accessibilty) Unable to open file\n",
      "(File accessibilty) Unable to open file\n",
      "(File accessibilty) Unable to open file\n",
      "\n",
      "File gradient_R1R2/gradient_R1R2_0.001_0.0001_0.0_5.0.h5 not finished: Failed on opening/creating file gradient_R1R2/gradient_R1R2_0.001_0.0001_0.0_5.0.h5: (File accessibilty) Unable to open file\n",
      "(Virtual File Layer) Unable to initialize object\n",
      "(File accessibilty) Unable to open file\n",
      "(File accessibilty) Unable to open file\n",
      "(File accessibilty) Unable to open file\n",
      "\n",
      "File gradient_R1R2/gradient_R1R2_0.001_0.0001_10.0_4.0.h5 not finished: Failed on opening/creating file gradient_R1R2/gradient_R1R2_0.001_0.0001_10.0_4.0.h5: (File accessibilty) Unable to open file\n",
      "(Virtual File Layer) Unable to initialize object\n",
      "(File accessibilty) Unable to open file\n",
      "(File accessibilty) Unable to open file\n",
      "(File accessibilty) Unable to open file\n",
      "\n",
      "File gradient_R1R2/gradient_R1R2_0.001_0.0001_10.0_5.0.h5 not finished: Failed on opening/creating file gradient_R1R2/gradient_R1R2_0.001_0.0001_10.0_5.0.h5: (File accessibilty) Unable to open file\n",
      "(Virtual File Layer) Unable to initialize object\n",
      "(File accessibilty) Unable to open file\n",
      "(File accessibilty) Unable to open file\n",
      "(File accessibilty) Unable to open file\n",
      "\n",
      "File gradient_R1R2/gradient_R1R2_0.001_0.0005_0.0_1.0.h5 not finished: Failed on opening/creating file gradient_R1R2/gradient_R1R2_0.001_0.0005_0.0_1.0.h5: (File accessibilty) Unable to open file\n",
      "(Virtual File Layer) Unable to initialize object\n",
      "(File accessibilty) Unable to open file\n",
      "(File accessibilty) Unable to open file\n",
      "(File accessibilty) Unable to open file\n",
      "\n",
      "File gradient_R1R2/gradient_R1R2_0.001_0.0005_0.0_2.0.h5 not finished: Failed on opening/creating file gradient_R1R2/gradient_R1R2_0.001_0.0005_0.0_2.0.h5: (File accessibilty) Unable to open file\n",
      "(Virtual File Layer) Unable to initialize object\n",
      "(File accessibilty) Unable to open file\n",
      "(File accessibilty) Unable to open file\n",
      "(File accessibilty) Unable to open file\n",
      "\n",
      "File gradient_R1R2/gradient_R1R2_0.001_0.0005_0.0_3.0.h5 not finished: Failed on opening/creating file gradient_R1R2/gradient_R1R2_0.001_0.0005_0.0_3.0.h5: (File accessibilty) Unable to open file\n",
      "(Virtual File Layer) Unable to initialize object\n",
      "(File accessibilty) Unable to open file\n",
      "(File accessibilty) Unable to open file\n",
      "(File accessibilty) Unable to open file\n",
      "\n",
      "File gradient_R1R2/gradient_R1R2_0.001_0.0005_0.0_4.0.h5 not finished: Failed on opening/creating file gradient_R1R2/gradient_R1R2_0.001_0.0005_0.0_4.0.h5: (File accessibilty) Unable to open file\n",
      "(Virtual File Layer) Unable to initialize object\n",
      "(File accessibilty) Unable to open file\n",
      "(File accessibilty) Unable to open file\n",
      "(File accessibilty) Unable to open file\n",
      "\n",
      "File gradient_R1R2/gradient_R1R2_0.001_0.0005_0.0_5.0.h5 not finished: Failed on opening/creating file gradient_R1R2/gradient_R1R2_0.001_0.0005_0.0_5.0.h5: (File accessibilty) Unable to open file\n",
      "(Virtual File Layer) Unable to initialize object\n",
      "(File accessibilty) Unable to open file\n",
      "(File accessibilty) Unable to open file\n",
      "(File accessibilty) Unable to open file\n",
      "\n",
      "File gradient_R1R2/gradient_R1R2_0.001_0.0005_10.0_4.0.h5 not finished: Failed on opening/creating file gradient_R1R2/gradient_R1R2_0.001_0.0005_10.0_4.0.h5: (File accessibilty) Unable to open file\n",
      "(Virtual File Layer) Unable to initialize object\n",
      "(File accessibilty) Unable to open file\n",
      "(File accessibilty) Unable to open file\n",
      "(File accessibilty) Unable to open file\n",
      "\n",
      "File gradient_R1R2/gradient_R1R2_0.001_0.0005_10.0_5.0.h5 not finished: Failed on opening/creating file gradient_R1R2/gradient_R1R2_0.001_0.0005_10.0_5.0.h5: (File accessibilty) Unable to open file\n",
      "(Virtual File Layer) Unable to initialize object\n",
      "(File accessibilty) Unable to open file\n",
      "(File accessibilty) Unable to open file\n",
      "(File accessibilty) Unable to open file\n",
      "\n",
      "File gradient_R1R2/gradient_R1R2_0.001_0.001_0.0_1.0.h5 not finished: Failed on opening/creating file gradient_R1R2/gradient_R1R2_0.001_0.001_0.0_1.0.h5: (File accessibilty) Unable to open file\n",
      "(Virtual File Layer) Unable to initialize object\n",
      "(File accessibilty) Unable to open file\n",
      "(File accessibilty) Unable to open file\n",
      "(File accessibilty) Unable to open file\n",
      "\n",
      "File gradient_R1R2/gradient_R1R2_0.001_0.001_0.0_2.0.h5 not finished: Failed on opening/creating file gradient_R1R2/gradient_R1R2_0.001_0.001_0.0_2.0.h5: (File accessibilty) Unable to open file\n",
      "(Virtual File Layer) Unable to initialize object\n",
      "(File accessibilty) Unable to open file\n",
      "(File accessibilty) Unable to open file\n",
      "(File accessibilty) Unable to open file\n",
      "\n",
      "File gradient_R1R2/gradient_R1R2_0.001_0.001_0.0_3.0.h5 not finished: Failed on opening/creating file gradient_R1R2/gradient_R1R2_0.001_0.001_0.0_3.0.h5: (File accessibilty) Unable to open file\n",
      "(Virtual File Layer) Unable to initialize object\n",
      "(File accessibilty) Unable to open file\n",
      "(File accessibilty) Unable to open file\n",
      "(File accessibilty) Unable to open file\n",
      "\n",
      "File gradient_R1R2/gradient_R1R2_0.001_0.001_0.0_4.0.h5 not finished: Failed on opening/creating file gradient_R1R2/gradient_R1R2_0.001_0.001_0.0_4.0.h5: (File accessibilty) Unable to open file\n",
      "(Virtual File Layer) Unable to initialize object\n",
      "(File accessibilty) Unable to open file\n",
      "(File accessibilty) Unable to open file\n",
      "(File accessibilty) Unable to open file\n",
      "\n",
      "File gradient_R1R2/gradient_R1R2_0.001_0.001_0.0_5.0.h5 not finished: Failed on opening/creating file gradient_R1R2/gradient_R1R2_0.001_0.001_0.0_5.0.h5: (File accessibilty) Unable to open file\n",
      "(Virtual File Layer) Unable to initialize object\n",
      "(File accessibilty) Unable to open file\n",
      "(File accessibilty) Unable to open file\n",
      "(File accessibilty) Unable to open file\n",
      "\n"
     ]
    },
    {
     "name": "stdout",
     "output_type": "stream",
     "text": [
      "File gradient_R1R2/gradient_R1R2_0.001_0.001_10.0_4.0.h5 not finished: Failed on opening/creating file gradient_R1R2/gradient_R1R2_0.001_0.001_10.0_4.0.h5: (File accessibilty) Unable to open file\n",
      "(Virtual File Layer) Unable to initialize object\n",
      "(File accessibilty) Unable to open file\n",
      "(File accessibilty) Unable to open file\n",
      "(File accessibilty) Unable to open file\n",
      "\n",
      "File gradient_R1R2/gradient_R1R2_0.001_0.001_10.0_5.0.h5 not finished: Failed on opening/creating file gradient_R1R2/gradient_R1R2_0.001_0.001_10.0_5.0.h5: (File accessibilty) Unable to open file\n",
      "(Virtual File Layer) Unable to initialize object\n",
      "(File accessibilty) Unable to open file\n",
      "(File accessibilty) Unable to open file\n",
      "(File accessibilty) Unable to open file\n",
      "\n",
      "File gradient_R1R2/gradient_R1R2_0.001_0.005_0.0_1.0.h5 not finished: Failed on opening/creating file gradient_R1R2/gradient_R1R2_0.001_0.005_0.0_1.0.h5: (File accessibilty) Unable to open file\n",
      "(Virtual File Layer) Unable to initialize object\n",
      "(File accessibilty) Unable to open file\n",
      "(File accessibilty) Unable to open file\n",
      "(File accessibilty) Unable to open file\n",
      "\n",
      "File gradient_R1R2/gradient_R1R2_0.001_0.005_0.0_2.0.h5 not finished: Failed on opening/creating file gradient_R1R2/gradient_R1R2_0.001_0.005_0.0_2.0.h5: (File accessibilty) Unable to open file\n",
      "(Virtual File Layer) Unable to initialize object\n",
      "(File accessibilty) Unable to open file\n",
      "(File accessibilty) Unable to open file\n",
      "(File accessibilty) Unable to open file\n",
      "\n",
      "File gradient_R1R2/gradient_R1R2_0.001_0.005_0.0_3.0.h5 not finished: Failed on opening/creating file gradient_R1R2/gradient_R1R2_0.001_0.005_0.0_3.0.h5: (File accessibilty) Unable to open file\n",
      "(Virtual File Layer) Unable to initialize object\n",
      "(File accessibilty) Unable to open file\n",
      "(File accessibilty) Unable to open file\n",
      "(File accessibilty) Unable to open file\n",
      "\n",
      "File gradient_R1R2/gradient_R1R2_0.001_0.005_0.0_4.0.h5 not finished: Failed on opening/creating file gradient_R1R2/gradient_R1R2_0.001_0.005_0.0_4.0.h5: (File accessibilty) Unable to open file\n",
      "(Virtual File Layer) Unable to initialize object\n",
      "(File accessibilty) Unable to open file\n",
      "(File accessibilty) Unable to open file\n",
      "(File accessibilty) Unable to open file\n",
      "\n",
      "File gradient_R1R2/gradient_R1R2_0.001_0.005_0.0_5.0.h5 not finished: Failed on opening/creating file gradient_R1R2/gradient_R1R2_0.001_0.005_0.0_5.0.h5: (File accessibilty) Unable to open file\n",
      "(Virtual File Layer) Unable to initialize object\n",
      "(File accessibilty) Unable to open file\n",
      "(File accessibilty) Unable to open file\n",
      "(File accessibilty) Unable to open file\n",
      "\n",
      "File gradient_R1R2/gradient_R1R2_0.001_0.005_10.0_4.0.h5 not finished: Failed on opening/creating file gradient_R1R2/gradient_R1R2_0.001_0.005_10.0_4.0.h5: (File accessibilty) Unable to open file\n",
      "(Virtual File Layer) Unable to initialize object\n",
      "(File accessibilty) Unable to open file\n",
      "(File accessibilty) Unable to open file\n",
      "(File accessibilty) Unable to open file\n",
      "\n",
      "File gradient_R1R2/gradient_R1R2_0.001_0.005_10.0_5.0.h5 not finished: Failed on opening/creating file gradient_R1R2/gradient_R1R2_0.001_0.005_10.0_5.0.h5: (File accessibilty) Unable to open file\n",
      "(Virtual File Layer) Unable to initialize object\n",
      "(File accessibilty) Unable to open file\n",
      "(File accessibilty) Unable to open file\n",
      "(File accessibilty) Unable to open file\n",
      "\n",
      "File gradient_R1R2/gradient_R1R2_0.001_0.01_0.0_1.0.h5 not finished: Failed on opening/creating file gradient_R1R2/gradient_R1R2_0.001_0.01_0.0_1.0.h5: (File accessibilty) Unable to open file\n",
      "(Virtual File Layer) Unable to initialize object\n",
      "(File accessibilty) Unable to open file\n",
      "(File accessibilty) Unable to open file\n",
      "(File accessibilty) Unable to open file\n",
      "\n",
      "File gradient_R1R2/gradient_R1R2_0.001_0.01_0.0_2.0.h5 not finished: Failed on opening/creating file gradient_R1R2/gradient_R1R2_0.001_0.01_0.0_2.0.h5: (File accessibilty) Unable to open file\n",
      "(Virtual File Layer) Unable to initialize object\n",
      "(File accessibilty) Unable to open file\n",
      "(File accessibilty) Unable to open file\n",
      "(File accessibilty) Unable to open file\n",
      "\n",
      "File gradient_R1R2/gradient_R1R2_0.001_0.01_0.0_3.0.h5 not finished: Failed on opening/creating file gradient_R1R2/gradient_R1R2_0.001_0.01_0.0_3.0.h5: (File accessibilty) Unable to open file\n",
      "(Virtual File Layer) Unable to initialize object\n",
      "(File accessibilty) Unable to open file\n",
      "(File accessibilty) Unable to open file\n",
      "(File accessibilty) Unable to open file\n",
      "\n",
      "File gradient_R1R2/gradient_R1R2_0.001_0.01_0.0_4.0.h5 not finished: Failed on opening/creating file gradient_R1R2/gradient_R1R2_0.001_0.01_0.0_4.0.h5: (File accessibilty) Unable to open file\n",
      "(Virtual File Layer) Unable to initialize object\n",
      "(File accessibilty) Unable to open file\n",
      "(File accessibilty) Unable to open file\n",
      "(File accessibilty) Unable to open file\n",
      "\n",
      "File gradient_R1R2/gradient_R1R2_0.001_0.01_0.0_5.0.h5 not finished: Failed on opening/creating file gradient_R1R2/gradient_R1R2_0.001_0.01_0.0_5.0.h5: (File accessibilty) Unable to open file\n",
      "(Virtual File Layer) Unable to initialize object\n",
      "(File accessibilty) Unable to open file\n",
      "(File accessibilty) Unable to open file\n",
      "(File accessibilty) Unable to open file\n",
      "\n",
      "File gradient_R1R2/gradient_R1R2_0.001_0.01_10.0_4.0.h5 not finished: Failed on opening/creating file gradient_R1R2/gradient_R1R2_0.001_0.01_10.0_4.0.h5: (File accessibilty) Unable to open file\n",
      "(Virtual File Layer) Unable to initialize object\n",
      "(File accessibilty) Unable to open file\n",
      "(File accessibilty) Unable to open file\n",
      "(File accessibilty) Unable to open file\n",
      "\n",
      "File gradient_R1R2/gradient_R1R2_0.001_0.01_10.0_5.0.h5 not finished: Failed on opening/creating file gradient_R1R2/gradient_R1R2_0.001_0.01_10.0_5.0.h5: (File accessibilty) Unable to open file\n",
      "(Virtual File Layer) Unable to initialize object\n",
      "(File accessibilty) Unable to open file\n",
      "(File accessibilty) Unable to open file\n",
      "(File accessibilty) Unable to open file\n",
      "\n",
      "File gradient_R1R2/gradient_R1R2_0.005_0.0_0.0_4.0.h5 not finished: Failed on opening/creating file gradient_R1R2/gradient_R1R2_0.005_0.0_0.0_4.0.h5: (File accessibilty) Unable to open file\n",
      "(Virtual File Layer) Unable to initialize object\n",
      "(File accessibilty) Unable to open file\n",
      "(File accessibilty) Unable to open file\n",
      "(File accessibilty) Unable to open file\n",
      "\n",
      "File gradient_R1R2/gradient_R1R2_0.005_0.0_0.0_5.0.h5 not finished: Failed on opening/creating file gradient_R1R2/gradient_R1R2_0.005_0.0_0.0_5.0.h5: (File accessibilty) Unable to open file\n",
      "(Virtual File Layer) Unable to initialize object\n",
      "(File accessibilty) Unable to open file\n",
      "(File accessibilty) Unable to open file\n",
      "(File accessibilty) Unable to open file\n",
      "\n",
      "File gradient_R1R2/gradient_R1R2_0.005_0.0_10.0_4.0.h5 not finished: Failed on opening/creating file gradient_R1R2/gradient_R1R2_0.005_0.0_10.0_4.0.h5: (File accessibilty) Unable to open file\n",
      "(Virtual File Layer) Unable to initialize object\n",
      "(File accessibilty) Unable to open file\n",
      "(File accessibilty) Unable to open file\n",
      "(File accessibilty) Unable to open file\n",
      "\n",
      "File gradient_R1R2/gradient_R1R2_0.005_0.0_10.0_5.0.h5 not finished: Failed on opening/creating file gradient_R1R2/gradient_R1R2_0.005_0.0_10.0_5.0.h5: (File accessibilty) Unable to open file\n",
      "(Virtual File Layer) Unable to initialize object\n",
      "(File accessibilty) Unable to open file\n",
      "(File accessibilty) Unable to open file\n",
      "(File accessibilty) Unable to open file\n",
      "\n",
      "File gradient_R1R2/gradient_R1R2_0.005_0.0001_0.0_1.0.h5 not finished: Failed on opening/creating file gradient_R1R2/gradient_R1R2_0.005_0.0001_0.0_1.0.h5: (File accessibilty) Unable to open file\n",
      "(Virtual File Layer) Unable to initialize object\n",
      "(File accessibilty) Unable to open file\n",
      "(File accessibilty) Unable to open file\n",
      "(File accessibilty) Unable to open file\n",
      "\n",
      "File gradient_R1R2/gradient_R1R2_0.005_0.0001_0.0_2.0.h5 not finished: Failed on opening/creating file gradient_R1R2/gradient_R1R2_0.005_0.0001_0.0_2.0.h5: (File accessibilty) Unable to open file\n",
      "(Virtual File Layer) Unable to initialize object\n",
      "(File accessibilty) Unable to open file\n",
      "(File accessibilty) Unable to open file\n",
      "(File accessibilty) Unable to open file\n",
      "\n",
      "File gradient_R1R2/gradient_R1R2_0.005_0.0001_0.0_3.0.h5 not finished: Failed on opening/creating file gradient_R1R2/gradient_R1R2_0.005_0.0001_0.0_3.0.h5: (File accessibilty) Unable to open file\n",
      "(Virtual File Layer) Unable to initialize object\n",
      "(File accessibilty) Unable to open file\n",
      "(File accessibilty) Unable to open file\n",
      "(File accessibilty) Unable to open file\n",
      "\n",
      "File gradient_R1R2/gradient_R1R2_0.005_0.0001_0.0_4.0.h5 not finished: Failed on opening/creating file gradient_R1R2/gradient_R1R2_0.005_0.0001_0.0_4.0.h5: (File accessibilty) Unable to open file\n",
      "(Virtual File Layer) Unable to initialize object\n",
      "(File accessibilty) Unable to open file\n",
      "(File accessibilty) Unable to open file\n",
      "(File accessibilty) Unable to open file\n",
      "\n",
      "File gradient_R1R2/gradient_R1R2_0.005_0.0001_0.0_5.0.h5 not finished: Failed on opening/creating file gradient_R1R2/gradient_R1R2_0.005_0.0001_0.0_5.0.h5: (File accessibilty) Unable to open file\n",
      "(Virtual File Layer) Unable to initialize object\n",
      "(File accessibilty) Unable to open file\n",
      "(File accessibilty) Unable to open file\n",
      "(File accessibilty) Unable to open file\n",
      "\n"
     ]
    },
    {
     "name": "stdout",
     "output_type": "stream",
     "text": [
      "File gradient_R1R2/gradient_R1R2_0.005_0.0001_10.0_4.0.h5 not finished: Failed on opening/creating file gradient_R1R2/gradient_R1R2_0.005_0.0001_10.0_4.0.h5: (File accessibilty) Unable to open file\n",
      "(Virtual File Layer) Unable to initialize object\n",
      "(File accessibilty) Unable to open file\n",
      "(File accessibilty) Unable to open file\n",
      "(File accessibilty) Unable to open file\n",
      "\n",
      "File gradient_R1R2/gradient_R1R2_0.005_0.0001_10.0_5.0.h5 not finished: Failed on opening/creating file gradient_R1R2/gradient_R1R2_0.005_0.0001_10.0_5.0.h5: (File accessibilty) Unable to open file\n",
      "(Virtual File Layer) Unable to initialize object\n",
      "(File accessibilty) Unable to open file\n",
      "(File accessibilty) Unable to open file\n",
      "(File accessibilty) Unable to open file\n",
      "\n",
      "File gradient_R1R2/gradient_R1R2_0.005_0.0005_0.0_1.0.h5 not finished: Failed on opening/creating file gradient_R1R2/gradient_R1R2_0.005_0.0005_0.0_1.0.h5: (File accessibilty) Unable to open file\n",
      "(Virtual File Layer) Unable to initialize object\n",
      "(File accessibilty) Unable to open file\n",
      "(File accessibilty) Unable to open file\n",
      "(File accessibilty) Unable to open file\n",
      "\n",
      "File gradient_R1R2/gradient_R1R2_0.005_0.0005_0.0_2.0.h5 not finished: Failed on opening/creating file gradient_R1R2/gradient_R1R2_0.005_0.0005_0.0_2.0.h5: (File accessibilty) Unable to open file\n",
      "(Virtual File Layer) Unable to initialize object\n",
      "(File accessibilty) Unable to open file\n",
      "(File accessibilty) Unable to open file\n",
      "(File accessibilty) Unable to open file\n",
      "\n",
      "File gradient_R1R2/gradient_R1R2_0.005_0.0005_0.0_3.0.h5 not finished: Failed on opening/creating file gradient_R1R2/gradient_R1R2_0.005_0.0005_0.0_3.0.h5: (File accessibilty) Unable to open file\n",
      "(Virtual File Layer) Unable to initialize object\n",
      "(File accessibilty) Unable to open file\n",
      "(File accessibilty) Unable to open file\n",
      "(File accessibilty) Unable to open file\n",
      "\n",
      "File gradient_R1R2/gradient_R1R2_0.005_0.0005_0.0_4.0.h5 not finished: Failed on opening/creating file gradient_R1R2/gradient_R1R2_0.005_0.0005_0.0_4.0.h5: (File accessibilty) Unable to open file\n",
      "(Virtual File Layer) Unable to initialize object\n",
      "(File accessibilty) Unable to open file\n",
      "(File accessibilty) Unable to open file\n",
      "(File accessibilty) Unable to open file\n",
      "\n",
      "File gradient_R1R2/gradient_R1R2_0.005_0.0005_0.0_5.0.h5 not finished: Failed on opening/creating file gradient_R1R2/gradient_R1R2_0.005_0.0005_0.0_5.0.h5: (File accessibilty) Unable to open file\n",
      "(Virtual File Layer) Unable to initialize object\n",
      "(File accessibilty) Unable to open file\n",
      "(File accessibilty) Unable to open file\n",
      "(File accessibilty) Unable to open file\n",
      "\n",
      "File gradient_R1R2/gradient_R1R2_0.005_0.0005_10.0_4.0.h5 not finished: Failed on opening/creating file gradient_R1R2/gradient_R1R2_0.005_0.0005_10.0_4.0.h5: (File accessibilty) Unable to open file\n",
      "(Virtual File Layer) Unable to initialize object\n",
      "(File accessibilty) Unable to open file\n",
      "(File accessibilty) Unable to open file\n",
      "(File accessibilty) Unable to open file\n",
      "\n",
      "File gradient_R1R2/gradient_R1R2_0.005_0.0005_10.0_5.0.h5 not finished: Failed on opening/creating file gradient_R1R2/gradient_R1R2_0.005_0.0005_10.0_5.0.h5: (File accessibilty) Unable to open file\n",
      "(Virtual File Layer) Unable to initialize object\n",
      "(File accessibilty) Unable to open file\n",
      "(File accessibilty) Unable to open file\n",
      "(File accessibilty) Unable to open file\n",
      "\n",
      "File gradient_R1R2/gradient_R1R2_0.005_0.001_0.0_1.0.h5 not finished: Failed on opening/creating file gradient_R1R2/gradient_R1R2_0.005_0.001_0.0_1.0.h5: (File accessibilty) Unable to open file\n",
      "(Virtual File Layer) Unable to initialize object\n",
      "(File accessibilty) Unable to open file\n",
      "(File accessibilty) Unable to open file\n",
      "(File accessibilty) Unable to open file\n",
      "\n",
      "File gradient_R1R2/gradient_R1R2_0.005_0.001_0.0_2.0.h5 not finished: Failed on opening/creating file gradient_R1R2/gradient_R1R2_0.005_0.001_0.0_2.0.h5: (File accessibilty) Unable to open file\n",
      "(Virtual File Layer) Unable to initialize object\n",
      "(File accessibilty) Unable to open file\n",
      "(File accessibilty) Unable to open file\n",
      "(File accessibilty) Unable to open file\n",
      "\n",
      "File gradient_R1R2/gradient_R1R2_0.005_0.001_0.0_3.0.h5 not finished: Failed on opening/creating file gradient_R1R2/gradient_R1R2_0.005_0.001_0.0_3.0.h5: (File accessibilty) Unable to open file\n",
      "(Virtual File Layer) Unable to initialize object\n",
      "(File accessibilty) Unable to open file\n",
      "(File accessibilty) Unable to open file\n",
      "(File accessibilty) Unable to open file\n",
      "\n",
      "File gradient_R1R2/gradient_R1R2_0.005_0.001_0.0_4.0.h5 not finished: Failed on opening/creating file gradient_R1R2/gradient_R1R2_0.005_0.001_0.0_4.0.h5: (File accessibilty) Unable to open file\n",
      "(Virtual File Layer) Unable to initialize object\n",
      "(File accessibilty) Unable to open file\n",
      "(File accessibilty) Unable to open file\n",
      "(File accessibilty) Unable to open file\n",
      "\n",
      "File gradient_R1R2/gradient_R1R2_0.005_0.001_0.0_5.0.h5 not finished: Failed on opening/creating file gradient_R1R2/gradient_R1R2_0.005_0.001_0.0_5.0.h5: (File accessibilty) Unable to open file\n",
      "(Virtual File Layer) Unable to initialize object\n",
      "(File accessibilty) Unable to open file\n",
      "(File accessibilty) Unable to open file\n",
      "(File accessibilty) Unable to open file\n",
      "\n",
      "File gradient_R1R2/gradient_R1R2_0.005_0.001_10.0_4.0.h5 not finished: Failed on opening/creating file gradient_R1R2/gradient_R1R2_0.005_0.001_10.0_4.0.h5: (File accessibilty) Unable to open file\n",
      "(Virtual File Layer) Unable to initialize object\n",
      "(File accessibilty) Unable to open file\n",
      "(File accessibilty) Unable to open file\n",
      "(File accessibilty) Unable to open file\n",
      "\n",
      "File gradient_R1R2/gradient_R1R2_0.005_0.001_10.0_5.0.h5 not finished: Failed on opening/creating file gradient_R1R2/gradient_R1R2_0.005_0.001_10.0_5.0.h5: (File accessibilty) Unable to open file\n",
      "(Virtual File Layer) Unable to initialize object\n",
      "(File accessibilty) Unable to open file\n",
      "(File accessibilty) Unable to open file\n",
      "(File accessibilty) Unable to open file\n",
      "\n",
      "File gradient_R1R2/gradient_R1R2_0.005_0.005_0.0_1.0.h5 not finished: Failed on opening/creating file gradient_R1R2/gradient_R1R2_0.005_0.005_0.0_1.0.h5: (File accessibilty) Unable to open file\n",
      "(Virtual File Layer) Unable to initialize object\n",
      "(File accessibilty) Unable to open file\n",
      "(File accessibilty) Unable to open file\n",
      "(File accessibilty) Unable to open file\n",
      "\n",
      "File gradient_R1R2/gradient_R1R2_0.005_0.005_0.0_2.0.h5 not finished: Failed on opening/creating file gradient_R1R2/gradient_R1R2_0.005_0.005_0.0_2.0.h5: (File accessibilty) Unable to open file\n",
      "(Virtual File Layer) Unable to initialize object\n",
      "(File accessibilty) Unable to open file\n",
      "(File accessibilty) Unable to open file\n",
      "(File accessibilty) Unable to open file\n",
      "\n",
      "File gradient_R1R2/gradient_R1R2_0.005_0.005_0.0_3.0.h5 not finished: Failed on opening/creating file gradient_R1R2/gradient_R1R2_0.005_0.005_0.0_3.0.h5: (File accessibilty) Unable to open file\n",
      "(Virtual File Layer) Unable to initialize object\n",
      "(File accessibilty) Unable to open file\n",
      "(File accessibilty) Unable to open file\n",
      "(File accessibilty) Unable to open file\n",
      "\n",
      "File gradient_R1R2/gradient_R1R2_0.005_0.005_0.0_4.0.h5 not finished: Failed on opening/creating file gradient_R1R2/gradient_R1R2_0.005_0.005_0.0_4.0.h5: (File accessibilty) Unable to open file\n",
      "(Virtual File Layer) Unable to initialize object\n",
      "(File accessibilty) Unable to open file\n",
      "(File accessibilty) Unable to open file\n",
      "(File accessibilty) Unable to open file\n",
      "\n",
      "File gradient_R1R2/gradient_R1R2_0.005_0.005_0.0_5.0.h5 not finished: Failed on opening/creating file gradient_R1R2/gradient_R1R2_0.005_0.005_0.0_5.0.h5: (File accessibilty) Unable to open file\n",
      "(Virtual File Layer) Unable to initialize object\n",
      "(File accessibilty) Unable to open file\n",
      "(File accessibilty) Unable to open file\n",
      "(File accessibilty) Unable to open file\n",
      "\n",
      "File gradient_R1R2/gradient_R1R2_0.005_0.005_10.0_4.0.h5 not finished: Failed on opening/creating file gradient_R1R2/gradient_R1R2_0.005_0.005_10.0_4.0.h5: (File accessibilty) Unable to open file\n",
      "(Virtual File Layer) Unable to initialize object\n",
      "(File accessibilty) Unable to open file\n",
      "(File accessibilty) Unable to open file\n",
      "(File accessibilty) Unable to open file\n",
      "\n",
      "File gradient_R1R2/gradient_R1R2_0.005_0.005_10.0_5.0.h5 not finished: Failed on opening/creating file gradient_R1R2/gradient_R1R2_0.005_0.005_10.0_5.0.h5: (File accessibilty) Unable to open file\n",
      "(Virtual File Layer) Unable to initialize object\n",
      "(File accessibilty) Unable to open file\n",
      "(File accessibilty) Unable to open file\n",
      "(File accessibilty) Unable to open file\n",
      "\n"
     ]
    },
    {
     "name": "stdout",
     "output_type": "stream",
     "text": [
      "File gradient_R1R2/gradient_R1R2_0.005_0.01_0.0_1.0.h5 not finished: Failed on opening/creating file gradient_R1R2/gradient_R1R2_0.005_0.01_0.0_1.0.h5: (File accessibilty) Unable to open file\n",
      "(Virtual File Layer) Unable to initialize object\n",
      "(File accessibilty) Unable to open file\n",
      "(File accessibilty) Unable to open file\n",
      "(File accessibilty) Unable to open file\n",
      "\n",
      "File gradient_R1R2/gradient_R1R2_0.005_0.01_0.0_2.0.h5 not finished: Failed on opening/creating file gradient_R1R2/gradient_R1R2_0.005_0.01_0.0_2.0.h5: (File accessibilty) Unable to open file\n",
      "(Virtual File Layer) Unable to initialize object\n",
      "(File accessibilty) Unable to open file\n",
      "(File accessibilty) Unable to open file\n",
      "(File accessibilty) Unable to open file\n",
      "\n",
      "File gradient_R1R2/gradient_R1R2_0.005_0.01_0.0_3.0.h5 not finished: Failed on opening/creating file gradient_R1R2/gradient_R1R2_0.005_0.01_0.0_3.0.h5: (File accessibilty) Unable to open file\n",
      "(Virtual File Layer) Unable to initialize object\n",
      "(File accessibilty) Unable to open file\n",
      "(File accessibilty) Unable to open file\n",
      "(File accessibilty) Unable to open file\n",
      "\n",
      "File gradient_R1R2/gradient_R1R2_0.005_0.01_0.0_4.0.h5 not finished: Failed on opening/creating file gradient_R1R2/gradient_R1R2_0.005_0.01_0.0_4.0.h5: (File accessibilty) Unable to open file\n",
      "(Virtual File Layer) Unable to initialize object\n",
      "(File accessibilty) Unable to open file\n",
      "(File accessibilty) Unable to open file\n",
      "(File accessibilty) Unable to open file\n",
      "\n",
      "File gradient_R1R2/gradient_R1R2_0.005_0.01_0.0_5.0.h5 not finished: Failed on opening/creating file gradient_R1R2/gradient_R1R2_0.005_0.01_0.0_5.0.h5: (File accessibilty) Unable to open file\n",
      "(Virtual File Layer) Unable to initialize object\n",
      "(File accessibilty) Unable to open file\n",
      "(File accessibilty) Unable to open file\n",
      "(File accessibilty) Unable to open file\n",
      "\n",
      "File gradient_R1R2/gradient_R1R2_0.005_0.01_10.0_4.0.h5 not finished: Failed on opening/creating file gradient_R1R2/gradient_R1R2_0.005_0.01_10.0_4.0.h5: (File accessibilty) Unable to open file\n",
      "(Virtual File Layer) Unable to initialize object\n",
      "(File accessibilty) Unable to open file\n",
      "(File accessibilty) Unable to open file\n",
      "(File accessibilty) Unable to open file\n",
      "\n",
      "File gradient_R1R2/gradient_R1R2_0.005_0.01_10.0_5.0.h5 not finished: Failed on opening/creating file gradient_R1R2/gradient_R1R2_0.005_0.01_10.0_5.0.h5: (File accessibilty) Unable to open file\n",
      "(Virtual File Layer) Unable to initialize object\n",
      "(File accessibilty) Unable to open file\n",
      "(File accessibilty) Unable to open file\n",
      "(File accessibilty) Unable to open file\n",
      "\n",
      "File gradient_R1R2/gradient_R1R2_0.01_0.0_0.0_4.0.h5 not finished: Failed on opening/creating file gradient_R1R2/gradient_R1R2_0.01_0.0_0.0_4.0.h5: (File accessibilty) Unable to open file\n",
      "(Virtual File Layer) Unable to initialize object\n",
      "(File accessibilty) Unable to open file\n",
      "(File accessibilty) Unable to open file\n",
      "(File accessibilty) Unable to open file\n",
      "\n",
      "File gradient_R1R2/gradient_R1R2_0.01_0.0_0.0_5.0.h5 not finished: Failed on opening/creating file gradient_R1R2/gradient_R1R2_0.01_0.0_0.0_5.0.h5: (File accessibilty) Unable to open file\n",
      "(Virtual File Layer) Unable to initialize object\n",
      "(File accessibilty) Unable to open file\n",
      "(File accessibilty) Unable to open file\n",
      "(File accessibilty) Unable to open file\n",
      "\n",
      "File gradient_R1R2/gradient_R1R2_0.01_0.0_10.0_4.0.h5 not finished: Failed on opening/creating file gradient_R1R2/gradient_R1R2_0.01_0.0_10.0_4.0.h5: (File accessibilty) Unable to open file\n",
      "(Virtual File Layer) Unable to initialize object\n",
      "(File accessibilty) Unable to open file\n",
      "(File accessibilty) Unable to open file\n",
      "(File accessibilty) Unable to open file\n",
      "\n",
      "File gradient_R1R2/gradient_R1R2_0.01_0.0_10.0_5.0.h5 not finished: Failed on opening/creating file gradient_R1R2/gradient_R1R2_0.01_0.0_10.0_5.0.h5: (File accessibilty) Unable to open file\n",
      "(Virtual File Layer) Unable to initialize object\n",
      "(File accessibilty) Unable to open file\n",
      "(File accessibilty) Unable to open file\n",
      "(File accessibilty) Unable to open file\n",
      "\n",
      "file to short 3259\n",
      "file to short 3406\n",
      "file to short 3013\n",
      "file to short 3204\n",
      "file to short 3066\n",
      "File gradient_R1R2/gradient_R1R2_0.01_0.0001_0.0_1.0.h5 not finished: Failed on opening/creating file gradient_R1R2/gradient_R1R2_0.01_0.0001_0.0_1.0.h5: (File accessibilty) Unable to open file\n",
      "(Virtual File Layer) Unable to initialize object\n",
      "(File accessibilty) Unable to open file\n",
      "(File accessibilty) Unable to open file\n",
      "(File accessibilty) Unable to open file\n",
      "\n",
      "File gradient_R1R2/gradient_R1R2_0.01_0.0001_0.0_2.0.h5 not finished: Failed on opening/creating file gradient_R1R2/gradient_R1R2_0.01_0.0001_0.0_2.0.h5: (File accessibilty) Unable to open file\n",
      "(Virtual File Layer) Unable to initialize object\n",
      "(File accessibilty) Unable to open file\n",
      "(File accessibilty) Unable to open file\n",
      "(File accessibilty) Unable to open file\n",
      "\n",
      "File gradient_R1R2/gradient_R1R2_0.01_0.0001_0.0_3.0.h5 not finished: Failed on opening/creating file gradient_R1R2/gradient_R1R2_0.01_0.0001_0.0_3.0.h5: (File accessibilty) Unable to open file\n",
      "(Virtual File Layer) Unable to initialize object\n",
      "(File accessibilty) Unable to open file\n",
      "(File accessibilty) Unable to open file\n",
      "(File accessibilty) Unable to open file\n",
      "\n",
      "File gradient_R1R2/gradient_R1R2_0.01_0.0001_0.0_4.0.h5 not finished: Failed on opening/creating file gradient_R1R2/gradient_R1R2_0.01_0.0001_0.0_4.0.h5: (File accessibilty) Unable to open file\n",
      "(Virtual File Layer) Unable to initialize object\n",
      "(File accessibilty) Unable to open file\n",
      "(File accessibilty) Unable to open file\n",
      "(File accessibilty) Unable to open file\n",
      "\n",
      "File gradient_R1R2/gradient_R1R2_0.01_0.0001_0.0_5.0.h5 not finished: Failed on opening/creating file gradient_R1R2/gradient_R1R2_0.01_0.0001_0.0_5.0.h5: (File accessibilty) Unable to open file\n",
      "(Virtual File Layer) Unable to initialize object\n",
      "(File accessibilty) Unable to open file\n",
      "(File accessibilty) Unable to open file\n",
      "(File accessibilty) Unable to open file\n",
      "\n",
      "File gradient_R1R2/gradient_R1R2_0.01_0.0001_10.0_4.0.h5 not finished: Failed on opening/creating file gradient_R1R2/gradient_R1R2_0.01_0.0001_10.0_4.0.h5: (File accessibilty) Unable to open file\n",
      "(Virtual File Layer) Unable to initialize object\n",
      "(File accessibilty) Unable to open file\n",
      "(File accessibilty) Unable to open file\n",
      "(File accessibilty) Unable to open file\n",
      "\n",
      "File gradient_R1R2/gradient_R1R2_0.01_0.0001_10.0_5.0.h5 not finished: Failed on opening/creating file gradient_R1R2/gradient_R1R2_0.01_0.0001_10.0_5.0.h5: (File accessibilty) Unable to open file\n",
      "(Virtual File Layer) Unable to initialize object\n",
      "(File accessibilty) Unable to open file\n",
      "(File accessibilty) Unable to open file\n",
      "(File accessibilty) Unable to open file\n",
      "\n",
      "File gradient_R1R2/gradient_R1R2_0.01_0.0001_50.0_1.0.h5 not finished: Failed on opening/creating file gradient_R1R2/gradient_R1R2_0.01_0.0001_50.0_1.0.h5: (File accessibilty) Unable to open file\n",
      "(File accessibilty) Unable to open file\n",
      "(File accessibilty) Unable to open file\n",
      "\n",
      "File gradient_R1R2/gradient_R1R2_0.01_0.0005_0.0_1.0.h5 not finished: Failed on opening/creating file gradient_R1R2/gradient_R1R2_0.01_0.0005_0.0_1.0.h5: (File accessibilty) Unable to open file\n",
      "(Virtual File Layer) Unable to initialize object\n",
      "(File accessibilty) Unable to open file\n",
      "(File accessibilty) Unable to open file\n",
      "(File accessibilty) Unable to open file\n",
      "\n",
      "File gradient_R1R2/gradient_R1R2_0.01_0.0005_0.0_2.0.h5 not finished: Failed on opening/creating file gradient_R1R2/gradient_R1R2_0.01_0.0005_0.0_2.0.h5: (File accessibilty) Unable to open file\n",
      "(Virtual File Layer) Unable to initialize object\n",
      "(File accessibilty) Unable to open file\n",
      "(File accessibilty) Unable to open file\n",
      "(File accessibilty) Unable to open file\n",
      "\n",
      "File gradient_R1R2/gradient_R1R2_0.01_0.0005_0.0_3.0.h5 not finished: Failed on opening/creating file gradient_R1R2/gradient_R1R2_0.01_0.0005_0.0_3.0.h5: (File accessibilty) Unable to open file\n",
      "(Virtual File Layer) Unable to initialize object\n",
      "(File accessibilty) Unable to open file\n",
      "(File accessibilty) Unable to open file\n",
      "(File accessibilty) Unable to open file\n",
      "\n",
      "File gradient_R1R2/gradient_R1R2_0.01_0.0005_0.0_4.0.h5 not finished: Failed on opening/creating file gradient_R1R2/gradient_R1R2_0.01_0.0005_0.0_4.0.h5: (File accessibilty) Unable to open file\n",
      "(Virtual File Layer) Unable to initialize object\n",
      "(File accessibilty) Unable to open file\n",
      "(File accessibilty) Unable to open file\n",
      "(File accessibilty) Unable to open file\n",
      "\n",
      "File gradient_R1R2/gradient_R1R2_0.01_0.0005_0.0_5.0.h5 not finished: Failed on opening/creating file gradient_R1R2/gradient_R1R2_0.01_0.0005_0.0_5.0.h5: (File accessibilty) Unable to open file\n",
      "(Virtual File Layer) Unable to initialize object\n",
      "(File accessibilty) Unable to open file\n",
      "(File accessibilty) Unable to open file\n",
      "(File accessibilty) Unable to open file\n",
      "\n"
     ]
    },
    {
     "name": "stdout",
     "output_type": "stream",
     "text": [
      "File gradient_R1R2/gradient_R1R2_0.01_0.0005_10.0_4.0.h5 not finished: Failed on opening/creating file gradient_R1R2/gradient_R1R2_0.01_0.0005_10.0_4.0.h5: (File accessibilty) Unable to open file\n",
      "(Virtual File Layer) Unable to initialize object\n",
      "(File accessibilty) Unable to open file\n",
      "(File accessibilty) Unable to open file\n",
      "(File accessibilty) Unable to open file\n",
      "\n",
      "File gradient_R1R2/gradient_R1R2_0.01_0.0005_10.0_5.0.h5 not finished: Failed on opening/creating file gradient_R1R2/gradient_R1R2_0.01_0.0005_10.0_5.0.h5: (File accessibilty) Unable to open file\n",
      "(Virtual File Layer) Unable to initialize object\n",
      "(File accessibilty) Unable to open file\n",
      "(File accessibilty) Unable to open file\n",
      "(File accessibilty) Unable to open file\n",
      "\n",
      "File gradient_R1R2/gradient_R1R2_0.01_0.001_0.0_1.0.h5 not finished: Failed on opening/creating file gradient_R1R2/gradient_R1R2_0.01_0.001_0.0_1.0.h5: (File accessibilty) Unable to open file\n",
      "(Virtual File Layer) Unable to initialize object\n",
      "(File accessibilty) Unable to open file\n",
      "(File accessibilty) Unable to open file\n",
      "(File accessibilty) Unable to open file\n",
      "\n",
      "File gradient_R1R2/gradient_R1R2_0.01_0.001_0.0_2.0.h5 not finished: Failed on opening/creating file gradient_R1R2/gradient_R1R2_0.01_0.001_0.0_2.0.h5: (File accessibilty) Unable to open file\n",
      "(Virtual File Layer) Unable to initialize object\n",
      "(File accessibilty) Unable to open file\n",
      "(File accessibilty) Unable to open file\n",
      "(File accessibilty) Unable to open file\n",
      "\n",
      "File gradient_R1R2/gradient_R1R2_0.01_0.001_0.0_3.0.h5 not finished: Failed on opening/creating file gradient_R1R2/gradient_R1R2_0.01_0.001_0.0_3.0.h5: (File accessibilty) Unable to open file\n",
      "(Virtual File Layer) Unable to initialize object\n",
      "(File accessibilty) Unable to open file\n",
      "(File accessibilty) Unable to open file\n",
      "(File accessibilty) Unable to open file\n",
      "\n",
      "File gradient_R1R2/gradient_R1R2_0.01_0.001_0.0_4.0.h5 not finished: Failed on opening/creating file gradient_R1R2/gradient_R1R2_0.01_0.001_0.0_4.0.h5: (File accessibilty) Unable to open file\n",
      "(Virtual File Layer) Unable to initialize object\n",
      "(File accessibilty) Unable to open file\n",
      "(File accessibilty) Unable to open file\n",
      "(File accessibilty) Unable to open file\n",
      "\n",
      "File gradient_R1R2/gradient_R1R2_0.01_0.001_0.0_5.0.h5 not finished: Failed on opening/creating file gradient_R1R2/gradient_R1R2_0.01_0.001_0.0_5.0.h5: (File accessibilty) Unable to open file\n",
      "(Virtual File Layer) Unable to initialize object\n",
      "(File accessibilty) Unable to open file\n",
      "(File accessibilty) Unable to open file\n",
      "(File accessibilty) Unable to open file\n",
      "\n",
      "File gradient_R1R2/gradient_R1R2_0.01_0.001_10.0_4.0.h5 not finished: Failed on opening/creating file gradient_R1R2/gradient_R1R2_0.01_0.001_10.0_4.0.h5: (File accessibilty) Unable to open file\n",
      "(Virtual File Layer) Unable to initialize object\n",
      "(File accessibilty) Unable to open file\n",
      "(File accessibilty) Unable to open file\n",
      "(File accessibilty) Unable to open file\n",
      "\n",
      "File gradient_R1R2/gradient_R1R2_0.01_0.001_10.0_5.0.h5 not finished: Failed on opening/creating file gradient_R1R2/gradient_R1R2_0.01_0.001_10.0_5.0.h5: (File accessibilty) Unable to open file\n",
      "(Virtual File Layer) Unable to initialize object\n",
      "(File accessibilty) Unable to open file\n",
      "(File accessibilty) Unable to open file\n",
      "(File accessibilty) Unable to open file\n",
      "\n",
      "File gradient_R1R2/gradient_R1R2_0.01_0.005_0.0_1.0.h5 not finished: Failed on opening/creating file gradient_R1R2/gradient_R1R2_0.01_0.005_0.0_1.0.h5: (File accessibilty) Unable to open file\n",
      "(Virtual File Layer) Unable to initialize object\n",
      "(File accessibilty) Unable to open file\n",
      "(File accessibilty) Unable to open file\n",
      "(File accessibilty) Unable to open file\n",
      "\n",
      "File gradient_R1R2/gradient_R1R2_0.01_0.005_0.0_2.0.h5 not finished: Failed on opening/creating file gradient_R1R2/gradient_R1R2_0.01_0.005_0.0_2.0.h5: (File accessibilty) Unable to open file\n",
      "(Virtual File Layer) Unable to initialize object\n",
      "(File accessibilty) Unable to open file\n",
      "(File accessibilty) Unable to open file\n",
      "(File accessibilty) Unable to open file\n",
      "\n",
      "File gradient_R1R2/gradient_R1R2_0.01_0.005_0.0_3.0.h5 not finished: Failed on opening/creating file gradient_R1R2/gradient_R1R2_0.01_0.005_0.0_3.0.h5: (File accessibilty) Unable to open file\n",
      "(Virtual File Layer) Unable to initialize object\n",
      "(File accessibilty) Unable to open file\n",
      "(File accessibilty) Unable to open file\n",
      "(File accessibilty) Unable to open file\n",
      "\n",
      "File gradient_R1R2/gradient_R1R2_0.01_0.005_0.0_4.0.h5 not finished: Failed on opening/creating file gradient_R1R2/gradient_R1R2_0.01_0.005_0.0_4.0.h5: (File accessibilty) Unable to open file\n",
      "(Virtual File Layer) Unable to initialize object\n",
      "(File accessibilty) Unable to open file\n",
      "(File accessibilty) Unable to open file\n",
      "(File accessibilty) Unable to open file\n",
      "\n",
      "File gradient_R1R2/gradient_R1R2_0.01_0.005_0.0_5.0.h5 not finished: Failed on opening/creating file gradient_R1R2/gradient_R1R2_0.01_0.005_0.0_5.0.h5: (File accessibilty) Unable to open file\n",
      "(Virtual File Layer) Unable to initialize object\n",
      "(File accessibilty) Unable to open file\n",
      "(File accessibilty) Unable to open file\n",
      "(File accessibilty) Unable to open file\n",
      "\n",
      "File gradient_R1R2/gradient_R1R2_0.01_0.005_10.0_4.0.h5 not finished: Failed on opening/creating file gradient_R1R2/gradient_R1R2_0.01_0.005_10.0_4.0.h5: (File accessibilty) Unable to open file\n",
      "(Virtual File Layer) Unable to initialize object\n",
      "(File accessibilty) Unable to open file\n",
      "(File accessibilty) Unable to open file\n",
      "(File accessibilty) Unable to open file\n",
      "\n",
      "File gradient_R1R2/gradient_R1R2_0.01_0.005_10.0_5.0.h5 not finished: Failed on opening/creating file gradient_R1R2/gradient_R1R2_0.01_0.005_10.0_5.0.h5: (File accessibilty) Unable to open file\n",
      "(Virtual File Layer) Unable to initialize object\n",
      "(File accessibilty) Unable to open file\n",
      "(File accessibilty) Unable to open file\n",
      "(File accessibilty) Unable to open file\n",
      "\n",
      "File gradient_R1R2/gradient_R1R2_0.01_0.01_0.0_1.0.h5 not finished: Failed on opening/creating file gradient_R1R2/gradient_R1R2_0.01_0.01_0.0_1.0.h5: (File accessibilty) Unable to open file\n",
      "(Virtual File Layer) Unable to initialize object\n",
      "(File accessibilty) Unable to open file\n",
      "(File accessibilty) Unable to open file\n",
      "(File accessibilty) Unable to open file\n",
      "\n",
      "File gradient_R1R2/gradient_R1R2_0.01_0.01_0.0_2.0.h5 not finished: Failed on opening/creating file gradient_R1R2/gradient_R1R2_0.01_0.01_0.0_2.0.h5: (File accessibilty) Unable to open file\n",
      "(Virtual File Layer) Unable to initialize object\n",
      "(File accessibilty) Unable to open file\n",
      "(File accessibilty) Unable to open file\n",
      "(File accessibilty) Unable to open file\n",
      "\n",
      "File gradient_R1R2/gradient_R1R2_0.01_0.01_0.0_3.0.h5 not finished: Failed on opening/creating file gradient_R1R2/gradient_R1R2_0.01_0.01_0.0_3.0.h5: (File accessibilty) Unable to open file\n",
      "(Virtual File Layer) Unable to initialize object\n",
      "(File accessibilty) Unable to open file\n",
      "(File accessibilty) Unable to open file\n",
      "(File accessibilty) Unable to open file\n",
      "\n",
      "File gradient_R1R2/gradient_R1R2_0.01_0.01_0.0_4.0.h5 not finished: Failed on opening/creating file gradient_R1R2/gradient_R1R2_0.01_0.01_0.0_4.0.h5: (File accessibilty) Unable to open file\n",
      "(Virtual File Layer) Unable to initialize object\n",
      "(File accessibilty) Unable to open file\n",
      "(File accessibilty) Unable to open file\n",
      "(File accessibilty) Unable to open file\n",
      "\n",
      "File gradient_R1R2/gradient_R1R2_0.01_0.01_0.0_5.0.h5 not finished: Failed on opening/creating file gradient_R1R2/gradient_R1R2_0.01_0.01_0.0_5.0.h5: (File accessibilty) Unable to open file\n",
      "(Virtual File Layer) Unable to initialize object\n",
      "(File accessibilty) Unable to open file\n",
      "(File accessibilty) Unable to open file\n",
      "(File accessibilty) Unable to open file\n",
      "\n",
      "File gradient_R1R2/gradient_R1R2_0.01_0.01_10.0_4.0.h5 not finished: Failed on opening/creating file gradient_R1R2/gradient_R1R2_0.01_0.01_10.0_4.0.h5: (File accessibilty) Unable to open file\n",
      "(Virtual File Layer) Unable to initialize object\n",
      "(File accessibilty) Unable to open file\n",
      "(File accessibilty) Unable to open file\n",
      "(File accessibilty) Unable to open file\n",
      "\n",
      "File gradient_R1R2/gradient_R1R2_0.01_0.01_10.0_5.0.h5 not finished: Failed on opening/creating file gradient_R1R2/gradient_R1R2_0.01_0.01_10.0_5.0.h5: (File accessibilty) Unable to open file\n",
      "(Virtual File Layer) Unable to initialize object\n",
      "(File accessibilty) Unable to open file\n",
      "(File accessibilty) Unable to open file\n",
      "(File accessibilty) Unable to open file\n",
      "\n"
     ]
    }
   ],
   "source": [
    "[data,err]=collect_data(\"gradient_R1R2\")"
   ]
  },
  {
   "cell_type": "code",
   "execution_count": 11,
   "metadata": {},
   "outputs": [
    {
     "data": {
      "text/plain": [
       "array([[ 17.84876641,   9.01458433, -35.00590492,  -8.0574169 ,\n",
       "         13.64468157,  -4.3073445 ],\n",
       "       [-42.45060819, -12.1376087 ,   0.58967993, -22.5270064 ,\n",
       "         31.49140284,  -9.25012794],\n",
       "       [-22.10182566,  -7.04712363, -27.41945737,   6.54803461,\n",
       "          3.95397392,  14.69819551],\n",
       "       [-15.71292238, -24.19810106, -18.97281868, -15.48910024,\n",
       "        -12.83822093,  -6.14443389],\n",
       "       [-29.83944516, -78.92627258,  12.73996651,  11.90558161,\n",
       "          6.73377595,  -5.20871589]])"
      ]
     },
     "execution_count": 11,
     "metadata": {},
     "output_type": "execute_result"
    }
   ],
   "source": [
    "data[:,:,-2]"
   ]
  },
  {
   "cell_type": "code",
   "execution_count": 12,
   "metadata": {},
   "outputs": [
    {
     "data": {
      "text/plain": [
       "array([[ 46.44116574,          nan,          nan,          nan,\n",
       "                 nan,          nan],\n",
       "       [ 18.92945059,          nan,          nan,          nan,\n",
       "                 nan,          nan],\n",
       "       [ 25.57407716,          nan,          nan,          nan,\n",
       "                 nan,          nan],\n",
       "       [ 96.50163069,          nan,          nan,          nan,\n",
       "                 nan,          nan],\n",
       "       [209.75031786,          nan,          nan,          nan,\n",
       "                 nan,          nan]])"
      ]
     },
     "execution_count": 12,
     "metadata": {},
     "output_type": "execute_result"
    }
   ],
   "source": [
    "data[:,:,0]"
   ]
  },
  {
   "cell_type": "code",
   "execution_count": 13,
   "metadata": {},
   "outputs": [
    {
     "data": {
      "text/plain": [
       "array([[24.32203113, 52.82687764, 25.46489981, 13.27675253, 16.6728447 ,\n",
       "        51.32438168],\n",
       "       [25.66255363, 38.27654091, 20.40611066,  8.47576016, 51.29416983,\n",
       "        17.82787057],\n",
       "       [66.94794113, 37.72175728, 27.57744702, 27.8283911 , 65.66577004,\n",
       "        35.00360633],\n",
       "       [29.48315169, 38.67272921, 29.31048019, 54.28132808, 71.23297303,\n",
       "        63.59782135],\n",
       "       [67.89602479, 25.36766738, 64.15933354, 44.49818553, 10.60677736,\n",
       "        58.28235836]])"
      ]
     },
     "execution_count": 13,
     "metadata": {},
     "output_type": "execute_result"
    }
   ],
   "source": [
    "err[:,:,-2]"
   ]
  },
  {
   "cell_type": "code",
   "execution_count": 14,
   "metadata": {},
   "outputs": [],
   "source": [
    "#for [n,m] in np.argwhere(np.isnan(data[:,:,-2])):\n",
    "#    print(f\"rm -r gradient_R1R2_{PD_rates[n]}_{MCP_rates[m]}_10.0_1.0*\")"
   ]
  },
  {
   "cell_type": "code",
   "execution_count": 15,
   "metadata": {},
   "outputs": [
    {
     "data": {
      "text/plain": [
       "array([[43.49835271, 55.4354874 , 24.33144141, 49.05164487, 49.64312283,\n",
       "        53.81744327],\n",
       "       [29.69449578, 51.32963406, 35.20675452, 52.70052836, 20.44337188,\n",
       "        50.85803277],\n",
       "       [35.07698801, 65.66667768, 47.46244581, 35.23321281, 32.00052959,\n",
       "        42.30976415],\n",
       "       [44.82378566, 37.10398255, 52.58410741, 44.87419229, 13.53011153,\n",
       "        32.13073924],\n",
       "       [        nan, 58.00284807, 49.84668158, 39.27038971, 50.66096537,\n",
       "        33.86515456]])"
      ]
     },
     "execution_count": 15,
     "metadata": {},
     "output_type": "execute_result"
    }
   ],
   "source": [
    "err[:,:,-1]"
   ]
  },
  {
   "cell_type": "code",
   "execution_count": 16,
   "metadata": {},
   "outputs": [
    {
     "ename": "IndexError",
     "evalue": "index 3 is out of bounds for axis 2 with size 3",
     "output_type": "error",
     "traceback": [
      "\u001b[0;31m---------------------------------------------------------------------------\u001b[0m",
      "\u001b[0;31mIndexError\u001b[0m                                Traceback (most recent call last)",
      "\u001b[0;32m<ipython-input-16-b83d917d26ce>\u001b[0m in \u001b[0;36m<module>\u001b[0;34m\u001b[0m\n\u001b[0;32m----> 1\u001b[0;31m \u001b[0mdata\u001b[0m\u001b[0;34m[\u001b[0m\u001b[0;34m:\u001b[0m\u001b[0;34m,\u001b[0m\u001b[0;34m:\u001b[0m\u001b[0;34m,\u001b[0m\u001b[0;36m3\u001b[0m\u001b[0;34m]\u001b[0m\u001b[0;34m\u001b[0m\u001b[0;34m\u001b[0m\u001b[0m\n\u001b[0m",
      "\u001b[0;31mIndexError\u001b[0m: index 3 is out of bounds for axis 2 with size 3"
     ]
    }
   ],
   "source": [
    "data[:,:,3]"
   ]
  },
  {
   "cell_type": "code",
   "execution_count": null,
   "metadata": {},
   "outputs": [],
   "source": [
    "err[:,:,3]"
   ]
  },
  {
   "cell_type": "code",
   "execution_count": null,
   "metadata": {},
   "outputs": [],
   "source": [
    "get_mean(f\"gradient_R1R2/gradient_R1R2_{PD_rates[3]}_{MCP_rates[0]}_{U_v[2]}_2.0.h5\")"
   ]
  },
  {
   "cell_type": "code",
   "execution_count": null,
   "metadata": {},
   "outputs": [],
   "source": [
    "get_mean(f\"gradient_R1R2/gradient_R1R2_{PD_rates[4]}_{MCP_rates[1]}_{U_v[3]}_5.h5\")"
   ]
  },
  {
   "cell_type": "code",
   "execution_count": null,
   "metadata": {},
   "outputs": [],
   "source": [
    "get_mean(f\"gradient_R1R2/gradient_R1R2_{PD_rates[-2]}_{MCP_rates[0]}_{U_v[-1]}_2.0.h5\")"
   ]
  },
  {
   "cell_type": "code",
   "execution_count": null,
   "metadata": {},
   "outputs": [],
   "source": [
    "get_mean(f\"gradient_R1R2/gradient_R1R2_0.01_0.001_50.0_1.0.h5\")"
   ]
  },
  {
   "cell_type": "code",
   "execution_count": null,
   "metadata": {},
   "outputs": [],
   "source": [
    "get_mean(f\"gradient_R1R2/gradient_R1R2_0.01_0.0_50.0_1.0.h5\")"
   ]
  },
  {
   "cell_type": "code",
   "execution_count": null,
   "metadata": {},
   "outputs": [],
   "source": [
    "get_mean(f\"gradient_R1R2/gradient_R1R2_0.01_0.0_50.0_3.0.h5\")"
   ]
  },
  {
   "cell_type": "code",
   "execution_count": null,
   "metadata": {},
   "outputs": [],
   "source": [
    "get_mean(f\"gradient_R1R2/gradient_R1R2_0.005_0.0_50.0_1.0.h5\")"
   ]
  },
  {
   "cell_type": "code",
   "execution_count": null,
   "metadata": {},
   "outputs": [],
   "source": [
    "load_trajectory_to_npy(\n",
    "            \"gradient_R1R2/tmp.h5\",begin=0,end=1,stride=100)"
   ]
  },
  {
   "cell_type": "code",
   "execution_count": null,
   "metadata": {},
   "outputs": [],
   "source": [
    "t = readdy.Trajectory(\"gradient_R1R2/gradient_R1R2_0.001_0.0_50.0_1.0.h5\")"
   ]
  },
  {
   "cell_type": "code",
   "execution_count": null,
   "metadata": {},
   "outputs": [],
   "source": [
    "t.convert_to_xyz(particle_radii={'PD_S': 10,'PD':1,'MCP':62})"
   ]
  },
  {
   "cell_type": "code",
   "execution_count": null,
   "metadata": {},
   "outputs": [],
   "source": [
    "data=t.to_numpy(start=0)"
   ]
  },
  {
   "cell_type": "code",
   "execution_count": null,
   "metadata": {},
   "outputs": [],
   "source": [
    "len(data[1])"
   ]
  },
  {
   "cell_type": "code",
   "execution_count": null,
   "metadata": {},
   "outputs": [],
   "source": [
    "data[1][-1]"
   ]
  },
  {
   "cell_type": "code",
   "execution_count": null,
   "metadata": {},
   "outputs": [],
   "source": [
    "data[:,1,2]"
   ]
  },
  {
   "cell_type": "code",
   "execution_count": null,
   "metadata": {},
   "outputs": [],
   "source": [
    "data[:,2,2]"
   ]
  },
  {
   "cell_type": "code",
   "execution_count": null,
   "metadata": {},
   "outputs": [],
   "source": [
    "data[:,3,2]"
   ]
  },
  {
   "cell_type": "code",
   "execution_count": null,
   "metadata": {},
   "outputs": [],
   "source": [
    "data[:,:,-2]"
   ]
  },
  {
   "cell_type": "code",
   "execution_count": null,
   "metadata": {},
   "outputs": [],
   "source": [
    "cf=plt.contourf(data[:,:,0])\n",
    "plt.colorbar(cf, ax=plt.gca())"
   ]
  },
  {
   "cell_type": "code",
   "execution_count": null,
   "metadata": {},
   "outputs": [],
   "source": [
    "data[2,-1,1]"
   ]
  },
  {
   "cell_type": "code",
   "execution_count": null,
   "metadata": {},
   "outputs": [],
   "source": [
    "cf=plt.contourf(data[:,:,-2],range(-90,0,5),cmap=cm.Purples_r)\n",
    "plt.colorbar(cf, ax=plt.gca())"
   ]
  },
  {
   "cell_type": "code",
   "execution_count": null,
   "metadata": {},
   "outputs": [],
   "source": [
    "cf=plt.contourf(data[:,:,0],cmap=cm.Purples_r)\n",
    "plt.colorbar(cf, ax=plt.gca())"
   ]
  },
  {
   "cell_type": "code",
   "execution_count": null,
   "metadata": {},
   "outputs": [],
   "source": [
    "data[:,:,0]"
   ]
  },
  {
   "cell_type": "code",
   "execution_count": null,
   "metadata": {},
   "outputs": [],
   "source": [
    "err[:,:,0]"
   ]
  },
  {
   "cell_type": "code",
   "execution_count": null,
   "metadata": {},
   "outputs": [],
   "source": [
    "np.divide(data[:,:,-1],60)"
   ]
  },
  {
   "cell_type": "code",
   "execution_count": null,
   "metadata": {},
   "outputs": [],
   "source": [
    "err[:,:,-1]"
   ]
  },
  {
   "cell_type": "code",
   "execution_count": null,
   "metadata": {},
   "outputs": [],
   "source": [
    "data[3,0,-1]"
   ]
  },
  {
   "cell_type": "code",
   "execution_count": null,
   "metadata": {},
   "outputs": [],
   "source": [
    "data[3,1,-1]"
   ]
  },
  {
   "cell_type": "code",
   "execution_count": null,
   "metadata": {},
   "outputs": [],
   "source": [
    "np.nanmin(np.divide(data[:,0:3,-1],30))"
   ]
  },
  {
   "cell_type": "code",
   "execution_count": null,
   "metadata": {},
   "outputs": [],
   "source": [
    "data[4,0,-1]=-90"
   ]
  },
  {
   "cell_type": "code",
   "execution_count": null,
   "metadata": {},
   "outputs": [],
   "source": [
    "#cf=plt.colorbar(cf, ax=plt.gca())\n",
    "plt.figure(figsize=[3,2.7])\n",
    "cf=plt.contourf(np.multiply(MCP_rates[0:5],1000),np.multiply(PD_rates[:],1000),\n",
    "                np.divide(data[:,0:5,-1],30),np.arange(-3.13,-0.75,0.25),\n",
    "                cmap=cm.Purples_r)\n",
    "plt.colorbar(cf, ax=plt.gca(),ticks=[-3,-2, -1,0])\n",
    "plt.xlim([0.0,2])\n",
    "#plt.xticks([])\n",
    "#plt.colorbar(cf, ax=plt.gca())\n",
    "plt.savefig(\"Fig 1E.pdf\")"
   ]
  },
  {
   "cell_type": "code",
   "execution_count": null,
   "metadata": {},
   "outputs": [],
   "source": []
  },
  {
   "cell_type": "code",
   "execution_count": 50,
   "metadata": {},
   "outputs": [
    {
     "data": {
      "image/png": "[encoded data removed]",
      "text/plain": [
       "<Figure size 252x252 with 2 Axes>"
      ]
     },
     "metadata": {},
     "output_type": "display_data"
    }
   ],
   "source": [
    "#cf=plt.colorbar(cf, ax=plt.gca())\n",
    "cf=plt.contourf(MCP_rates[0:4],PD_rates[:],np.divide(data[:,0:4,-1],30),\n",
    "                cmap=cm.Purples_r)\n",
    "plt.colorbar(cf, ax=plt.gca(),ticks=[-3,-2, -1,0])\n",
    "plt.xlim([0.0,0.0008])\n",
    "#plt.xticks([])\n",
    "#plt.colorbar(cf, ax=plt.gca())\n",
    "plt.savefig(\"Fig 1E.pdf\")"
   ]
  },
  {
   "cell_type": "code",
   "execution_count": 17,
   "metadata": {},
   "outputs": [
    {
     "data": {
      "text/plain": [
       "0.001"
      ]
     },
     "execution_count": 17,
     "metadata": {},
     "output_type": "execute_result"
    }
   ],
   "source": [
    "MCP_rates[3]"
   ]
  },
  {
   "cell_type": "code",
   "execution_count": 18,
   "metadata": {},
   "outputs": [
    {
     "data": {
      "text/plain": [
       "<matplotlib.colorbar.Colorbar at 0x2b35846c71c0>"
      ]
     },
     "execution_count": 18,
     "metadata": {},
     "output_type": "execute_result"
    },
    {
     "name": "stderr",
     "output_type": "stream",
     "text": [
      "findfont: Font family ['sans-serif'] not found. Falling back to DejaVu Sans.\n"
     ]
    },
    {
     "data": {
      "image/png": "[encoded data removed]",
      "text/plain": [
       "<Figure size 252x252 with 2 Axes>"
      ]
     },
     "metadata": {},
     "output_type": "display_data"
    }
   ],
   "source": [
    "#cf=plt.colorbar(cf, ax=plt.gca())\n",
    "cf=plt.contourf(MCP_rates[0:4],PD_rates[:],np.divide(data[:,0:4,-1],60),np.arange(-2,-1,0.1),\n",
    "                cmap=cm.Purples_r)\n",
    "#plt.colorbar(cf, ax=plt.gca(),ticks=[-2, -0.5, -0.1])\n",
    "plt.colorbar(cf, ax=plt.gca())"
   ]
  },
  {
   "cell_type": "code",
   "execution_count": 19,
   "metadata": {},
   "outputs": [
    {
     "data": {
      "text/plain": [
       "<matplotlib.colorbar.Colorbar at 0x2b35847eea30>"
      ]
     },
     "execution_count": 19,
     "metadata": {},
     "output_type": "execute_result"
    },
    {
     "data": {
      "image/png": "[encoded data removed]",
      "text/plain": [
       "<Figure size 252x252 with 2 Axes>"
      ]
     },
     "metadata": {},
     "output_type": "display_data"
    }
   ],
   "source": [
    "#cf=plt.colorbar(cf, ax=plt.gca())\n",
    "cf=plt.contourf(MCP_rates[0:4],PD_rates[:],np.divide(data[:,0:4,-1],60),np.arange(-2,-1,0.2))\n",
    "#plt.colorbar(cf, ax=plt.gca(),ticks=[-2, -0.5, -0.1])\n",
    "plt.colorbar(cf, ax=plt.gca())"
   ]
  },
  {
   "cell_type": "code",
   "execution_count": 20,
   "metadata": {},
   "outputs": [
    {
     "data": {
      "text/plain": [
       "<matplotlib.colorbar.Colorbar at 0x2b35848325e0>"
      ]
     },
     "execution_count": 20,
     "metadata": {},
     "output_type": "execute_result"
    },
    {
     "data": {
      "image/png": "[encoded data removed]",
      "text/plain": [
       "<Figure size 252x252 with 2 Axes>"
      ]
     },
     "metadata": {},
     "output_type": "display_data"
    }
   ],
   "source": [
    "#cf=plt.colorbar(cf, ax=plt.gca())\n",
    "cf=plt.contourf(MCP_rates[0:4],PD_rates[:],np.divide(data[:,0:4,-1],60),np.arange(-2,-1,0.2))\n",
    "#plt.colorbar(cf, ax=plt.gca(),ticks=[-2, -0.5, -0.1])\n",
    "plt.colorbar(cf, ax=plt.gca())"
   ]
  },
  {
   "cell_type": "code",
   "execution_count": 21,
   "metadata": {},
   "outputs": [
    {
     "data": {
      "text/plain": [
       "array([[43.49835271, 55.4354874 , 24.33144141, 49.05164487, 49.64312283,\n",
       "        53.81744327],\n",
       "       [29.69449578, 51.32963406, 35.20675452, 52.70052836, 20.44337188,\n",
       "        50.85803277],\n",
       "       [35.07698801, 65.66667768, 47.46244581, 35.23321281, 32.00052959,\n",
       "        42.30976415],\n",
       "       [44.82378566, 37.10398255, 52.58410741, 44.87419229, 13.53011153,\n",
       "        32.13073924],\n",
       "       [        nan, 58.00284807, 49.84668158, 39.27038971, 50.66096537,\n",
       "        33.86515456]])"
      ]
     },
     "execution_count": 21,
     "metadata": {},
     "output_type": "execute_result"
    }
   ],
   "source": [
    "err[:,:,-1]"
   ]
  },
  {
   "cell_type": "code",
   "execution_count": 22,
   "metadata": {},
   "outputs": [
    {
     "data": {
      "text/plain": [
       "<matplotlib.colorbar.Colorbar at 0x2b358492f310>"
      ]
     },
     "execution_count": 22,
     "metadata": {},
     "output_type": "execute_result"
    },
    {
     "data": {
      "image/png": "[encoded data removed]",
      "text/plain": [
       "<Figure size 252x252 with 2 Axes>"
      ]
     },
     "metadata": {},
     "output_type": "display_data"
    }
   ],
   "source": [
    "cf=plt.contourf(np.multiply(MCP_rates[0:-2],1000),np.multiply(PD_rates,1000),data[:,0:-2,-1],range(-300,100,20))\n",
    "plt.colorbar(cf, ax=plt.gca())"
   ]
  },
  {
   "cell_type": "code",
   "execution_count": 23,
   "metadata": {},
   "outputs": [
    {
     "data": {
      "text/plain": [
       "[0.0001, 0.0005, 0.001, 0.005, 0.01]"
      ]
     },
     "execution_count": 23,
     "metadata": {},
     "output_type": "execute_result"
    }
   ],
   "source": [
    "PD_rates"
   ]
  },
  {
   "cell_type": "code",
   "execution_count": 24,
   "metadata": {},
   "outputs": [
    {
     "data": {
      "text/plain": [
       "5"
      ]
     },
     "execution_count": 24,
     "metadata": {},
     "output_type": "execute_result"
    }
   ],
   "source": [
    "len(data[:,:,-1])"
   ]
  },
  {
   "cell_type": "code",
   "execution_count": 25,
   "metadata": {},
   "outputs": [
    {
     "data": {
      "text/plain": [
       "Text(0.5, 0, 'MCP_rate')"
      ]
     },
     "execution_count": 25,
     "metadata": {},
     "output_type": "execute_result"
    },
    {
     "data": {
      "image/png": "[encoded data removed]",
      "text/plain": [
       "<Figure size 216x151.2 with 2 Axes>"
      ]
     },
     "metadata": {},
     "output_type": "display_data"
    }
   ],
   "source": [
    "plt.figure(figsize=[3,2.1])\n",
    "cf=plt.contourf(np.multiply(MCP_rates[0:2],1000),\n",
    "                np.multiply(PD_rates[0:2],1000),data[0:2,0:2,-1],range(-200,-5,20),cmap=cm.Purples_r)\n",
    "plt.colorbar(cf, ax=plt.gca(),ticks=[-300, -150, -20])\n",
    "plt.ylabel(\"PD_rate\")\n",
    "plt.xlabel(\"MCP_rate\")\n",
    "#plt.savefig(\"U_10_map.pdf\")"
   ]
  },
  {
   "cell_type": "code",
   "execution_count": 26,
   "metadata": {},
   "outputs": [
    {
     "data": {
      "text/plain": [
       "array([25.57407716,         nan,         nan,         nan,         nan,\n",
       "               nan])"
      ]
     },
     "execution_count": 26,
     "metadata": {},
     "output_type": "execute_result"
    }
   ],
   "source": [
    "data[2,:,0]"
   ]
  },
  {
   "cell_type": "code",
   "execution_count": 27,
   "metadata": {},
   "outputs": [
    {
     "ename": "IndexError",
     "evalue": "index 3 is out of bounds for axis 2 with size 3",
     "output_type": "error",
     "traceback": [
      "\u001b[0;31m---------------------------------------------------------------------------\u001b[0m",
      "\u001b[0;31mIndexError\u001b[0m                                Traceback (most recent call last)",
      "\u001b[0;32m<ipython-input-27-68d78084c403>\u001b[0m in \u001b[0;36m<module>\u001b[0;34m\u001b[0m\n\u001b[0;32m----> 1\u001b[0;31m \u001b[0merr\u001b[0m\u001b[0;34m[\u001b[0m\u001b[0;34m:\u001b[0m\u001b[0;34m,\u001b[0m\u001b[0;34m:\u001b[0m\u001b[0;34m,\u001b[0m\u001b[0;36m3\u001b[0m\u001b[0;34m]\u001b[0m\u001b[0;34m\u001b[0m\u001b[0;34m\u001b[0m\u001b[0m\n\u001b[0m",
      "\u001b[0;31mIndexError\u001b[0m: index 3 is out of bounds for axis 2 with size 3"
     ]
    }
   ],
   "source": [
    "err[:,:,3]"
   ]
  },
  {
   "cell_type": "code",
   "execution_count": 28,
   "metadata": {},
   "outputs": [
    {
     "data": {
      "text/plain": [
       "31.092253050681574"
      ]
     },
     "execution_count": 28,
     "metadata": {},
     "output_type": "execute_result"
    }
   ],
   "source": [
    "get_mean(f\"gradient_R1R2/gradient_R1R2_{PD_rates[3]}_{MCP_rates[0]}_{U_v[0]}_1.0.h5\")"
   ]
  },
  {
   "cell_type": "code",
   "execution_count": 29,
   "metadata": {},
   "outputs": [
    {
     "data": {
      "text/plain": [
       "-27.20848577857441"
      ]
     },
     "execution_count": 29,
     "metadata": {},
     "output_type": "execute_result"
    }
   ],
   "source": [
    "get_mean(f\"gradient_R1R2/gradient_R1R2_{PD_rates[3]}_{MCP_rates[0]}_{U_v[-2]}_1.0.h5\")"
   ]
  },
  {
   "cell_type": "code",
   "execution_count": 30,
   "metadata": {},
   "outputs": [
    {
     "name": "stdout",
     "output_type": "stream",
     "text": [
      "file to short 3406\n"
     ]
    },
    {
     "data": {
      "text/plain": [
       "nan"
      ]
     },
     "execution_count": 30,
     "metadata": {},
     "output_type": "execute_result"
    }
   ],
   "source": [
    "get_mean(f\"gradient_R1R2/gradient_R1R2_{PD_rates[-1]}_{MCP_rates[0]}_{U_v[-1]}_2.0.h5\")"
   ]
  },
  {
   "cell_type": "code",
   "execution_count": 31,
   "metadata": {},
   "outputs": [
    {
     "ename": "NameError",
     "evalue": "name 't' is not defined",
     "output_type": "error",
     "traceback": [
      "\u001b[0;31m---------------------------------------------------------------------------\u001b[0m",
      "\u001b[0;31mNameError\u001b[0m                                 Traceback (most recent call last)",
      "\u001b[0;32m<ipython-input-31-3c31fdcee156>\u001b[0m in \u001b[0;36m<module>\u001b[0;34m\u001b[0m\n\u001b[0;32m----> 1\u001b[0;31m \u001b[0mt\u001b[0m\u001b[0;34m.\u001b[0m\u001b[0mconvert_to_xyz\u001b[0m\u001b[0;34m(\u001b[0m\u001b[0;34m)\u001b[0m\u001b[0;34m\u001b[0m\u001b[0;34m\u001b[0m\u001b[0m\n\u001b[0m",
      "\u001b[0;31mNameError\u001b[0m: name 't' is not defined"
     ]
    }
   ],
   "source": [
    "t.convert_to_xyz()"
   ]
  },
  {
   "cell_type": "code",
   "execution_count": null,
   "metadata": {},
   "outputs": [],
   "source": [
    "get_mean(f\"gradient_R1R2/gradient_R1R2_{PD_rates[3]}_{MCP_rates[0]}_{U_v[-1]}_5.h5\")"
   ]
  },
  {
   "cell_type": "code",
   "execution_count": null,
   "metadata": {},
   "outputs": [],
   "source": [
    "get_mean(f\"gradient_R1R2/gradient_R1R2_{PD_rates[3]}_{MCP_rates[2]}_{U_v[0]}_5.h5\")"
   ]
  },
  {
   "cell_type": "code",
   "execution_count": null,
   "metadata": {},
   "outputs": [],
   "source": [
    "data[:,:,1]"
   ]
  },
  {
   "cell_type": "code",
   "execution_count": null,
   "metadata": {},
   "outputs": [],
   "source": [
    "get_mean(f\"gradient_R1R2/gradient_R1R2_{PD_rates[1]}_{MCP_rates[1]}_{U_v[1]}_5.h5\")"
   ]
  },
  {
   "cell_type": "code",
   "execution_count": null,
   "metadata": {},
   "outputs": [],
   "source": [
    "for pd in PD_rates:\n",
    "    for mcp in MCP_rates:\n",
    "        for U in U_v:\n",
    "            print(f\"gradient_R1R2_{pd}_{mcp}_{U}_5.h5\") # _5 is naming artifact"
   ]
  },
  {
   "cell_type": "code",
   "execution_count": null,
   "metadata": {},
   "outputs": [],
   "source": [
    "np.nan"
   ]
  },
  {
   "cell_type": "code",
   "execution_count": null,
   "metadata": {},
   "outputs": [],
   "source": [
    "from readdy.api.utils import load_trajectory_to_npy\n"
   ]
  },
  {
   "cell_type": "code",
   "execution_count": null,
   "metadata": {},
   "outputs": [],
   "source": [
    "load_trajectory_to_npy(file)"
   ]
  },
  {
   "cell_type": "code",
   "execution_count": null,
   "metadata": {},
   "outputs": [],
   "source": [
    "data[-2,:,-2]"
   ]
  },
  {
   "cell_type": "code",
   "execution_count": 32,
   "metadata": {},
   "outputs": [
    {
     "data": {
      "text/plain": [
       "<ErrorbarContainer object of 3 artists>"
      ]
     },
     "execution_count": 32,
     "metadata": {},
     "output_type": "execute_result"
    },
    {
     "data": {
      "image/png": "[encoded data removed]",
      "text/plain": [
       "<Figure size 252x252 with 1 Axes>"
      ]
     },
     "metadata": {},
     "output_type": "display_data"
    }
   ],
   "source": [
    "plt.errorbar(MCP_rates[:4],data[-1,:4,1],err[-1,:4,1])\n",
    "#plt.gca().set_xscale(\"log\", nonpositive='clip')"
   ]
  },
  {
   "cell_type": "code",
   "execution_count": 33,
   "metadata": {},
   "outputs": [
    {
     "data": {
      "text/plain": [
       "<ErrorbarContainer object of 3 artists>"
      ]
     },
     "execution_count": 33,
     "metadata": {},
     "output_type": "execute_result"
    },
    {
     "data": {
      "image/png": "[encoded data removed]",
      "text/plain": [
       "<Figure size 252x252 with 1 Axes>"
      ]
     },
     "metadata": {},
     "output_type": "display_data"
    }
   ],
   "source": [
    "plt.errorbar(np.array(MCP_rates[:5]),data[-1,:5,1],err[-1,:5,1],marker='o')"
   ]
  },
  {
   "cell_type": "code",
   "execution_count": 34,
   "metadata": {},
   "outputs": [
    {
     "data": {
      "text/plain": [
       "-39.16020579889404"
      ]
     },
     "execution_count": 34,
     "metadata": {},
     "output_type": "execute_result"
    }
   ],
   "source": [
    "get_mean(f\"gradient_R1R2/gradient_R1R2_{PD_rates[-2]}_{MCP_rates[1]}_{U_v[-2]}_2.0.h5\")"
   ]
  },
  {
   "cell_type": "code",
   "execution_count": 35,
   "metadata": {},
   "outputs": [
    {
     "data": {
      "text/plain": [
       "0.005"
      ]
     },
     "execution_count": 35,
     "metadata": {},
     "output_type": "execute_result"
    }
   ],
   "source": [
    "PD_rates[-2]"
   ]
  },
  {
   "cell_type": "code",
   "execution_count": 36,
   "metadata": {},
   "outputs": [
    {
     "data": {
      "text/plain": [
       "0.0001"
      ]
     },
     "execution_count": 36,
     "metadata": {},
     "output_type": "execute_result"
    }
   ],
   "source": [
    "MCP_rates[1]"
   ]
  },
  {
   "cell_type": "code",
   "execution_count": 37,
   "metadata": {},
   "outputs": [
    {
     "data": {
      "text/plain": [
       "-58.489321386805585"
      ]
     },
     "execution_count": 37,
     "metadata": {},
     "output_type": "execute_result"
    },
    {
     "data": {
      "image/png": "[encoded data removed]",
      "text/plain": [
       "<Figure size 252x252 with 1 Axes>"
      ]
     },
     "metadata": {},
     "output_type": "display_data"
    },
    {
     "data": {
      "image/png": "[encoded data removed]",
      "text/plain": [
       "<Figure size 252x252 with 1 Axes>"
      ]
     },
     "metadata": {},
     "output_type": "display_data"
    }
   ],
   "source": [
    "get_mean(f\"gradient_R1R2/gradient_R1R2_{PD_rates[-2]}_{MCP_rates[0]}_{U_v[-1]}_1.0.h5\",15,True)"
   ]
  },
  {
   "cell_type": "code",
   "execution_count": 38,
   "metadata": {},
   "outputs": [
    {
     "data": {
      "text/plain": [
       "-88.27602409523396"
      ]
     },
     "execution_count": 38,
     "metadata": {},
     "output_type": "execute_result"
    },
    {
     "data": {
      "image/png": "[encoded data removed]",
      "text/plain": [
       "<Figure size 252x252 with 1 Axes>"
      ]
     },
     "metadata": {},
     "output_type": "display_data"
    },
    {
     "data": {
      "image/png": "[encoded data removed]",
      "text/plain": [
       "<Figure size 252x252 with 1 Axes>"
      ]
     },
     "metadata": {},
     "output_type": "display_data"
    }
   ],
   "source": [
    "get_mean(f\"gradient_R1R2/gradient_R1R2_{PD_rates[-2]}_{MCP_rates[1]}_{U_v[-1]}_2.0.h5\",15,True)"
   ]
  },
  {
   "cell_type": "code",
   "execution_count": 39,
   "metadata": {},
   "outputs": [],
   "source": [
    "gen_xyz(f\"gradient_R1R2/gradient_R1R2_{PD_rates[-1]}_{MCP_rates[0]}_{U_v[-2]}_3.0.h5\")"
   ]
  },
  {
   "cell_type": "code",
   "execution_count": 40,
   "metadata": {
    "scrolled": false
   },
   "outputs": [
    {
     "data": {
      "text/plain": [
       "-146.45946637714295"
      ]
     },
     "execution_count": 40,
     "metadata": {},
     "output_type": "execute_result"
    },
    {
     "data": {
      "image/png": "[encoded data removed]",
      "text/plain": [
       "<Figure size 252x252 with 1 Axes>"
      ]
     },
     "metadata": {},
     "output_type": "display_data"
    },
    {
     "data": {
      "image/png": "[encoded data removed]",
      "text/plain": [
       "<Figure size 252x252 with 1 Axes>"
      ]
     },
     "metadata": {},
     "output_type": "display_data"
    }
   ],
   "source": [
    "get_mean(f\"gradient_R1R2/gradient_R1R2_{PD_rates[-1]}_{MCP_rates[1]}_{U_v[-1]}_3.0.h5\",15,True)"
   ]
  },
  {
   "cell_type": "code",
   "execution_count": 41,
   "metadata": {},
   "outputs": [],
   "source": [
    "gen_xyz(f\"gradient_R1R2/gradient_R1R2_{PD_rates[-2]}_{MCP_rates[0]}_{U_v[-2]}_2.0.h5\")"
   ]
  },
  {
   "cell_type": "code",
   "execution_count": 42,
   "metadata": {},
   "outputs": [],
   "source": [
    "gen_xyz(f\"gradient_R1R2/gradient_R1R2_{PD_rates[-2]}_{MCP_rates[2]}_{U_v[-2]}_2.0.h5\")"
   ]
  },
  {
   "cell_type": "code",
   "execution_count": 43,
   "metadata": {},
   "outputs": [
    {
     "data": {
      "text/plain": [
       "-92.19501296225103"
      ]
     },
     "execution_count": 43,
     "metadata": {},
     "output_type": "execute_result"
    }
   ],
   "source": [
    "data[3,0,-1]"
   ]
  },
  {
   "cell_type": "code",
   "execution_count": 44,
   "metadata": {},
   "outputs": [
    {
     "data": {
      "text/plain": [
       "-70.25697440464856"
      ]
     },
     "execution_count": 44,
     "metadata": {},
     "output_type": "execute_result"
    }
   ],
   "source": [
    "data[3,2,-1]"
   ]
  },
  {
   "cell_type": "code",
   "execution_count": 45,
   "metadata": {},
   "outputs": [
    {
     "data": {
      "text/plain": [
       "-92.19501296225103"
      ]
     },
     "execution_count": 45,
     "metadata": {},
     "output_type": "execute_result"
    }
   ],
   "source": [
    "data[3,0,-1]"
   ]
  },
  {
   "cell_type": "code",
   "execution_count": 46,
   "metadata": {},
   "outputs": [
    {
     "data": {
      "text/plain": [
       "0.005"
      ]
     },
     "execution_count": 46,
     "metadata": {},
     "output_type": "execute_result"
    }
   ],
   "source": [
    "PD_rates[3]"
   ]
  },
  {
   "cell_type": "code",
   "execution_count": 47,
   "metadata": {},
   "outputs": [
    {
     "data": {
      "text/plain": [
       "0.0005"
      ]
     },
     "execution_count": 47,
     "metadata": {},
     "output_type": "execute_result"
    }
   ],
   "source": [
    "MCP_rates[2]"
   ]
  },
  {
   "cell_type": "code",
   "execution_count": 48,
   "metadata": {},
   "outputs": [
    {
     "data": {
      "text/plain": [
       "array([  60.02252743,   59.26948762,   59.60774668,  118.26343322,\n",
       "        238.48493479,   94.81456927, 1082.0938935 ,   59.63914936,\n",
       "        453.68985063,  986.88333484,  895.0625242 , 1155.97740627,\n",
       "        256.85905906, 1073.42915804,   59.36275091,   59.03796996,\n",
       "         60.47479716,   73.78937069,   58.89808958,   59.53616995,\n",
       "        604.40622489,  257.35188461,  959.43761303, 1004.50120547,\n",
       "         60.11213445,  502.78080135,  831.2694821 ,  107.54045929])"
      ]
     },
     "execution_count": 48,
     "metadata": {},
     "output_type": "execute_result"
    }
   ],
   "source": [
    "agg=[]\n",
    "agg=distance_end(f\"gradient_R1R2/gradient_R1R2_{PD_rates[3]}_{MCP_rates[0]}_{U_v[-1]}_1.0.h5\")\n",
    "np.append(agg,distance_end(f\"gradient_R1R2/gradient_R1R2_{PD_rates[3]}_{MCP_rates[0]}_{U_v[-1]}_2.0.h5\"))\n",
    "np.append(agg,distance_end(f\"gradient_R1R2/gradient_R1R2_{PD_rates[3]}_{MCP_rates[0]}_{U_v[-1]}_3.0.h5\"))"
   ]
  },
  {
   "cell_type": "code",
   "execution_count": 49,
   "metadata": {},
   "outputs": [
    {
     "data": {
      "text/plain": [
       "array([ 141.76317466,  117.26851268,  524.59752105, 1014.61776158,\n",
       "        304.0033005 ,  304.64125688, 1051.17276147, 1011.97933798,\n",
       "        857.06238328,  182.69480178,  108.70630778,  354.63003597,\n",
       "       1000.47532461,  716.74102485,  949.42666596,  309.09288574,\n",
       "       1064.77018888,   60.41324783,  117.98857129,  193.14504824,\n",
       "        178.12292272,  442.44633033,  115.80447005,  220.15782488,\n",
       "        652.83382987,  938.10589871, 1038.85541249, 1081.54004123])"
      ]
     },
     "execution_count": 49,
     "metadata": {},
     "output_type": "execute_result"
    }
   ],
   "source": [
    "nonagg=[]\n",
    "nonagg=distance_end(f\"gradient_R1R2/gradient_R1R2_{PD_rates[3]}_{MCP_rates[2]}_{U_v[-1]}_2.0.h5\")\n",
    "np.append(nonagg,distance_end(f\"gradient_R1R2/gradient_R1R2_{PD_rates[2]}_{MCP_rates[2]}_{U_v[-1]}_3.0.h5\"))\n",
    "np.append(nonagg,distance_end(f\"gradient_R1R2/gradient_R1R2_{PD_rates[2]}_{MCP_rates[2]}_{U_v[-1]}_4.0.h5\"))"
   ]
  },
  {
   "cell_type": "code",
   "execution_count": 50,
   "metadata": {},
   "outputs": [
    {
     "data": {
      "image/png": "[encoded data removed]",
      "text/plain": [
       "<Figure size 216x129.6 with 1 Axes>"
      ]
     },
     "metadata": {},
     "output_type": "display_data"
    }
   ],
   "source": [
    "plt.figure(figsize=[3,1.8])\n",
    "plt.hist(np.divide(agg,30),bins=20,histtype=\"step\",linewidth=2.0,color=\"tab:gray\")\n",
    "plt.hist(np.divide(nonagg,30),bins=20,histtype=\"step\",linewidth=2.0,color=\"tab:purple\")\n",
    "#plt.xlim([50,250])\n",
    "plt.xlabel(\"Inter-compartment distance\")\n",
    "plt.ylabel(\"Counts\")\n",
    "plt.xticks([0,10,20,30,40])\n",
    "plt.savefig(\"agg-hist.pdf\")"
   ]
  },
  {
   "cell_type": "code",
   "execution_count": 97,
   "metadata": {},
   "outputs": [],
   "source": [
    "nonagg=distance_end(f\"gradient_R1R2/gradient_R1R2_{PD_rates[-2]}_{MCP_rates[2]}_{U_v[-2]}_2.0.h5\")"
   ]
  },
  {
   "cell_type": "code",
   "execution_count": 165,
   "metadata": {},
   "outputs": [
    {
     "data": {
      "text/plain": [
       "0.015"
      ]
     },
     "execution_count": 165,
     "metadata": {},
     "output_type": "execute_result"
    }
   ],
   "source": [
    "3,2.7"
   ]
  },
  {
   "cell_type": "code",
   "execution_count": 163,
   "metadata": {},
   "outputs": [
    {
     "data": {
      "text/plain": [
       "0.005"
      ]
     },
     "execution_count": 163,
     "metadata": {},
     "output_type": "execute_result"
    }
   ],
   "source": [
    "PD_rates[-2]"
   ]
  },
  {
   "cell_type": "code",
   "execution_count": 167,
   "metadata": {},
   "outputs": [
    {
     "data": {
      "text/plain": [
       "0.001"
      ]
     },
     "execution_count": 167,
     "metadata": {},
     "output_type": "execute_result"
    }
   ],
   "source": [
    "MCP_rates[2]"
   ]
  },
  {
   "cell_type": "code",
   "execution_count": 168,
   "metadata": {},
   "outputs": [
    {
     "data": {
      "text/plain": [
       "0.005"
      ]
     },
     "execution_count": 168,
     "metadata": {},
     "output_type": "execute_result"
    }
   ],
   "source": [
    "get_mean(f\"gradient_R1R2/gradient_R1R2_{PD_rates[4]}_{MCP_rates[1]}_{U_v[-2]}_2.0.h5\")"
   ]
  },
  {
   "cell_type": "code",
   "execution_count": 25,
   "metadata": {},
   "outputs": [
    {
     "ename": "RuntimeError",
     "evalue": "Unable to get link info (bad object header version number)",
     "output_type": "error",
     "traceback": [
      "\u001b[0;31m---------------------------------------------------------------------------\u001b[0m",
      "\u001b[0;31mRuntimeError\u001b[0m                              Traceback (most recent call last)",
      "\u001b[0;32m<ipython-input-25-527681ad0966>\u001b[0m in \u001b[0;36m<module>\u001b[0;34m\u001b[0m\n\u001b[0;32m----> 1\u001b[0;31m \u001b[0mt\u001b[0m \u001b[0;34m=\u001b[0m \u001b[0mreaddy\u001b[0m\u001b[0;34m.\u001b[0m\u001b[0mTrajectory\u001b[0m\u001b[0;34m(\u001b[0m\u001b[0;34m\"gradient_R1R2/gradient_R1R2_0.0001_0.0_50.0_2.0.h5\"\u001b[0m\u001b[0;34m)\u001b[0m\u001b[0;34m\u001b[0m\u001b[0;34m\u001b[0m\u001b[0m\n\u001b[0m",
      "\u001b[0;32m~/.conda/envs/readdy/lib/python3.8/site-packages/readdy/api/trajectory.py\u001b[0m in \u001b[0;36m__init__\u001b[0;34m(self, filename, name)\u001b[0m\n\u001b[1;32m    231\u001b[0m         \u001b[0mself\u001b[0m\u001b[0;34m.\u001b[0m\u001b[0m_filename\u001b[0m \u001b[0;34m=\u001b[0m \u001b[0mfilename\u001b[0m\u001b[0;34m\u001b[0m\u001b[0;34m\u001b[0m\u001b[0m\n\u001b[1;32m    232\u001b[0m         \u001b[0mself\u001b[0m\u001b[0;34m.\u001b[0m\u001b[0m_name\u001b[0m \u001b[0;34m=\u001b[0m \u001b[0mname\u001b[0m\u001b[0;34m\u001b[0m\u001b[0;34m\u001b[0m\u001b[0m\n\u001b[0;32m--> 233\u001b[0;31m         \u001b[0mself\u001b[0m\u001b[0;34m.\u001b[0m\u001b[0m_diffusion_constants\u001b[0m \u001b[0;34m=\u001b[0m \u001b[0m_io_utils\u001b[0m\u001b[0;34m.\u001b[0m\u001b[0mget_diffusion_constants\u001b[0m\u001b[0;34m(\u001b[0m\u001b[0mfilename\u001b[0m\u001b[0;34m)\u001b[0m\u001b[0;34m\u001b[0m\u001b[0;34m\u001b[0m\u001b[0m\n\u001b[0m\u001b[1;32m    234\u001b[0m         \u001b[0mself\u001b[0m\u001b[0;34m.\u001b[0m\u001b[0m_particle_types\u001b[0m \u001b[0;34m=\u001b[0m \u001b[0m_io_utils\u001b[0m\u001b[0;34m.\u001b[0m\u001b[0mget_particle_types\u001b[0m\u001b[0;34m(\u001b[0m\u001b[0mfilename\u001b[0m\u001b[0;34m)\u001b[0m\u001b[0;34m\u001b[0m\u001b[0;34m\u001b[0m\u001b[0m\n\u001b[1;32m    235\u001b[0m         \u001b[0mself\u001b[0m\u001b[0;34m.\u001b[0m\u001b[0m_particle_type_mapping\u001b[0m \u001b[0;34m=\u001b[0m \u001b[0;34m{\u001b[0m\u001b[0mk\u001b[0m\u001b[0;34m:\u001b[0m \u001b[0mv\u001b[0m\u001b[0;34m[\u001b[0m\u001b[0;34m'type_id'\u001b[0m\u001b[0;34m]\u001b[0m \u001b[0;32mfor\u001b[0m \u001b[0mk\u001b[0m\u001b[0;34m,\u001b[0m \u001b[0mv\u001b[0m \u001b[0;32min\u001b[0m \u001b[0mself\u001b[0m\u001b[0;34m.\u001b[0m\u001b[0m_particle_types\u001b[0m\u001b[0;34m.\u001b[0m\u001b[0mitems\u001b[0m\u001b[0;34m(\u001b[0m\u001b[0;34m)\u001b[0m\u001b[0;34m}\u001b[0m\u001b[0;34m\u001b[0m\u001b[0;34m\u001b[0m\u001b[0m\n",
      "\u001b[0;32m~/.conda/envs/readdy/lib/python3.8/site-packages/readdy/util/io_utils.py\u001b[0m in \u001b[0;36mget_diffusion_constants\u001b[0;34m(filename, dset_path)\u001b[0m\n\u001b[1;32m    113\u001b[0m     \u001b[0mresult\u001b[0m \u001b[0;34m=\u001b[0m \u001b[0mdict\u001b[0m\u001b[0;34m(\u001b[0m\u001b[0;34m)\u001b[0m\u001b[0;34m\u001b[0m\u001b[0;34m\u001b[0m\u001b[0m\n\u001b[1;32m    114\u001b[0m     \u001b[0;32mwith\u001b[0m \u001b[0mh5py\u001b[0m\u001b[0;34m.\u001b[0m\u001b[0mFile\u001b[0m\u001b[0;34m(\u001b[0m\u001b[0mfilename\u001b[0m\u001b[0;34m,\u001b[0m \u001b[0;34m\"r\"\u001b[0m\u001b[0;34m)\u001b[0m \u001b[0;32mas\u001b[0m \u001b[0mf\u001b[0m\u001b[0;34m:\u001b[0m\u001b[0;34m\u001b[0m\u001b[0;34m\u001b[0m\u001b[0m\n\u001b[0;32m--> 115\u001b[0;31m         \u001b[0;32mif\u001b[0m \u001b[0mdset_path\u001b[0m \u001b[0;32min\u001b[0m \u001b[0mf\u001b[0m\u001b[0;34m:\u001b[0m\u001b[0;34m\u001b[0m\u001b[0;34m\u001b[0m\u001b[0m\n\u001b[0m\u001b[1;32m    116\u001b[0m             \u001b[0mp_types\u001b[0m \u001b[0;34m=\u001b[0m \u001b[0mf\u001b[0m\u001b[0;34m[\u001b[0m\u001b[0mdset_path\u001b[0m\u001b[0;34m]\u001b[0m\u001b[0;34m\u001b[0m\u001b[0;34m\u001b[0m\u001b[0m\n\u001b[1;32m    117\u001b[0m             \u001b[0;32mfor\u001b[0m \u001b[0mp_type\u001b[0m \u001b[0;32min\u001b[0m \u001b[0mp_types\u001b[0m\u001b[0;34m:\u001b[0m\u001b[0;34m\u001b[0m\u001b[0;34m\u001b[0m\u001b[0m\n",
      "\u001b[0;32mh5py/_objects.pyx\u001b[0m in \u001b[0;36mh5py._objects.with_phil.wrapper\u001b[0;34m()\u001b[0m\n",
      "\u001b[0;32mh5py/_objects.pyx\u001b[0m in \u001b[0;36mh5py._objects.with_phil.wrapper\u001b[0;34m()\u001b[0m\n",
      "\u001b[0;32m~/.conda/envs/readdy/lib/python3.8/site-packages/h5py/_hl/group.py\u001b[0m in \u001b[0;36m__contains__\u001b[0;34m(self, name)\u001b[0m\n\u001b[1;32m    413\u001b[0m     \u001b[0;32mdef\u001b[0m \u001b[0m__contains__\u001b[0m\u001b[0;34m(\u001b[0m\u001b[0mself\u001b[0m\u001b[0;34m,\u001b[0m \u001b[0mname\u001b[0m\u001b[0;34m)\u001b[0m\u001b[0;34m:\u001b[0m\u001b[0;34m\u001b[0m\u001b[0;34m\u001b[0m\u001b[0m\n\u001b[1;32m    414\u001b[0m         \u001b[0;34m\"\"\" Test if a member name exists \"\"\"\u001b[0m\u001b[0;34m\u001b[0m\u001b[0;34m\u001b[0m\u001b[0m\n\u001b[0;32m--> 415\u001b[0;31m         \u001b[0;32mreturn\u001b[0m \u001b[0mself\u001b[0m\u001b[0;34m.\u001b[0m\u001b[0m_e\u001b[0m\u001b[0;34m(\u001b[0m\u001b[0mname\u001b[0m\u001b[0;34m)\u001b[0m \u001b[0;32min\u001b[0m \u001b[0mself\u001b[0m\u001b[0;34m.\u001b[0m\u001b[0mid\u001b[0m\u001b[0;34m\u001b[0m\u001b[0;34m\u001b[0m\u001b[0m\n\u001b[0m\u001b[1;32m    416\u001b[0m \u001b[0;34m\u001b[0m\u001b[0m\n\u001b[1;32m    417\u001b[0m     def copy(self, source, dest, name=None,\n",
      "\u001b[0;32mh5py/h5g.pyx\u001b[0m in \u001b[0;36mh5py.h5g.GroupID.__contains__\u001b[0;34m()\u001b[0m\n",
      "\u001b[0;32mh5py/h5g.pyx\u001b[0m in \u001b[0;36mh5py.h5g.GroupID.__contains__\u001b[0;34m()\u001b[0m\n",
      "\u001b[0;32mh5py/_objects.pyx\u001b[0m in \u001b[0;36mh5py._objects.with_phil.wrapper\u001b[0;34m()\u001b[0m\n",
      "\u001b[0;32mh5py/_objects.pyx\u001b[0m in \u001b[0;36mh5py._objects.with_phil.wrapper\u001b[0;34m()\u001b[0m\n",
      "\u001b[0;32mh5py/h5g.pyx\u001b[0m in \u001b[0;36mh5py.h5g._path_valid\u001b[0;34m()\u001b[0m\n",
      "\u001b[0;32mh5py/_objects.pyx\u001b[0m in \u001b[0;36mh5py._objects.with_phil.wrapper\u001b[0;34m()\u001b[0m\n",
      "\u001b[0;32mh5py/_objects.pyx\u001b[0m in \u001b[0;36mh5py._objects.with_phil.wrapper\u001b[0;34m()\u001b[0m\n",
      "\u001b[0;32mh5py/h5l.pyx\u001b[0m in \u001b[0;36mh5py.h5l.LinkProxy.exists\u001b[0;34m()\u001b[0m\n",
      "\u001b[0;31mRuntimeError\u001b[0m: Unable to get link info (bad object header version number)"
     ]
    }
   ],
   "source": [
    "t = readdy.Trajectory(\"gradient_R1R2/gradient_R1R2_0.0001_0.0_50.0_2.0.h5\")"
   ]
  },
  {
   "cell_type": "code",
   "execution_count": 27,
   "metadata": {},
   "outputs": [
    {
     "ename": "OSError",
     "evalue": "Unable to open file (file is already open for write (may use <h5clear file> to clear file consistency flags))",
     "output_type": "error",
     "traceback": [
      "\u001b[0;31m---------------------------------------------------------------------------\u001b[0m",
      "\u001b[0;31mOSError\u001b[0m                                   Traceback (most recent call last)",
      "\u001b[0;32m<ipython-input-27-ac03dc4dd15f>\u001b[0m in \u001b[0;36m<module>\u001b[0;34m\u001b[0m\n\u001b[0;32m----> 1\u001b[0;31m \u001b[0mt\u001b[0m \u001b[0;34m=\u001b[0m \u001b[0mreaddy\u001b[0m\u001b[0;34m.\u001b[0m\u001b[0mTrajectory\u001b[0m\u001b[0;34m(\u001b[0m\u001b[0;34m\"gradient_R1R2/gradient_R1R2_0.001_0.0_50.0_2.0.h5\"\u001b[0m\u001b[0;34m)\u001b[0m\u001b[0;34m\u001b[0m\u001b[0;34m\u001b[0m\u001b[0m\n\u001b[0m",
      "\u001b[0;32m~/.conda/envs/readdy/lib/python3.8/site-packages/readdy/api/trajectory.py\u001b[0m in \u001b[0;36m__init__\u001b[0;34m(self, filename, name)\u001b[0m\n\u001b[1;32m    231\u001b[0m         \u001b[0mself\u001b[0m\u001b[0;34m.\u001b[0m\u001b[0m_filename\u001b[0m \u001b[0;34m=\u001b[0m \u001b[0mfilename\u001b[0m\u001b[0;34m\u001b[0m\u001b[0;34m\u001b[0m\u001b[0m\n\u001b[1;32m    232\u001b[0m         \u001b[0mself\u001b[0m\u001b[0;34m.\u001b[0m\u001b[0m_name\u001b[0m \u001b[0;34m=\u001b[0m \u001b[0mname\u001b[0m\u001b[0;34m\u001b[0m\u001b[0;34m\u001b[0m\u001b[0m\n\u001b[0;32m--> 233\u001b[0;31m         \u001b[0mself\u001b[0m\u001b[0;34m.\u001b[0m\u001b[0m_diffusion_constants\u001b[0m \u001b[0;34m=\u001b[0m \u001b[0m_io_utils\u001b[0m\u001b[0;34m.\u001b[0m\u001b[0mget_diffusion_constants\u001b[0m\u001b[0;34m(\u001b[0m\u001b[0mfilename\u001b[0m\u001b[0;34m)\u001b[0m\u001b[0;34m\u001b[0m\u001b[0;34m\u001b[0m\u001b[0m\n\u001b[0m\u001b[1;32m    234\u001b[0m         \u001b[0mself\u001b[0m\u001b[0;34m.\u001b[0m\u001b[0m_particle_types\u001b[0m \u001b[0;34m=\u001b[0m \u001b[0m_io_utils\u001b[0m\u001b[0;34m.\u001b[0m\u001b[0mget_particle_types\u001b[0m\u001b[0;34m(\u001b[0m\u001b[0mfilename\u001b[0m\u001b[0;34m)\u001b[0m\u001b[0;34m\u001b[0m\u001b[0;34m\u001b[0m\u001b[0m\n\u001b[1;32m    235\u001b[0m         \u001b[0mself\u001b[0m\u001b[0;34m.\u001b[0m\u001b[0m_particle_type_mapping\u001b[0m \u001b[0;34m=\u001b[0m \u001b[0;34m{\u001b[0m\u001b[0mk\u001b[0m\u001b[0;34m:\u001b[0m \u001b[0mv\u001b[0m\u001b[0;34m[\u001b[0m\u001b[0;34m'type_id'\u001b[0m\u001b[0;34m]\u001b[0m \u001b[0;32mfor\u001b[0m \u001b[0mk\u001b[0m\u001b[0;34m,\u001b[0m \u001b[0mv\u001b[0m \u001b[0;32min\u001b[0m \u001b[0mself\u001b[0m\u001b[0;34m.\u001b[0m\u001b[0m_particle_types\u001b[0m\u001b[0;34m.\u001b[0m\u001b[0mitems\u001b[0m\u001b[0;34m(\u001b[0m\u001b[0;34m)\u001b[0m\u001b[0;34m}\u001b[0m\u001b[0;34m\u001b[0m\u001b[0;34m\u001b[0m\u001b[0m\n",
      "\u001b[0;32m~/.conda/envs/readdy/lib/python3.8/site-packages/readdy/util/io_utils.py\u001b[0m in \u001b[0;36mget_diffusion_constants\u001b[0;34m(filename, dset_path)\u001b[0m\n\u001b[1;32m    112\u001b[0m     \"\"\"\n\u001b[1;32m    113\u001b[0m     \u001b[0mresult\u001b[0m \u001b[0;34m=\u001b[0m \u001b[0mdict\u001b[0m\u001b[0;34m(\u001b[0m\u001b[0;34m)\u001b[0m\u001b[0;34m\u001b[0m\u001b[0;34m\u001b[0m\u001b[0m\n\u001b[0;32m--> 114\u001b[0;31m     \u001b[0;32mwith\u001b[0m \u001b[0mh5py\u001b[0m\u001b[0;34m.\u001b[0m\u001b[0mFile\u001b[0m\u001b[0;34m(\u001b[0m\u001b[0mfilename\u001b[0m\u001b[0;34m,\u001b[0m \u001b[0;34m\"r\"\u001b[0m\u001b[0;34m)\u001b[0m \u001b[0;32mas\u001b[0m \u001b[0mf\u001b[0m\u001b[0;34m:\u001b[0m\u001b[0;34m\u001b[0m\u001b[0;34m\u001b[0m\u001b[0m\n\u001b[0m\u001b[1;32m    115\u001b[0m         \u001b[0;32mif\u001b[0m \u001b[0mdset_path\u001b[0m \u001b[0;32min\u001b[0m \u001b[0mf\u001b[0m\u001b[0;34m:\u001b[0m\u001b[0;34m\u001b[0m\u001b[0;34m\u001b[0m\u001b[0m\n\u001b[1;32m    116\u001b[0m             \u001b[0mp_types\u001b[0m \u001b[0;34m=\u001b[0m \u001b[0mf\u001b[0m\u001b[0;34m[\u001b[0m\u001b[0mdset_path\u001b[0m\u001b[0;34m]\u001b[0m\u001b[0;34m\u001b[0m\u001b[0;34m\u001b[0m\u001b[0m\n",
      "\u001b[0;32m~/.conda/envs/readdy/lib/python3.8/site-packages/h5py/_hl/files.py\u001b[0m in \u001b[0;36m__init__\u001b[0;34m(self, name, mode, driver, libver, userblock_size, swmr, rdcc_nslots, rdcc_nbytes, rdcc_w0, track_order, **kwds)\u001b[0m\n\u001b[1;32m    404\u001b[0m             \u001b[0;32mwith\u001b[0m \u001b[0mphil\u001b[0m\u001b[0;34m:\u001b[0m\u001b[0;34m\u001b[0m\u001b[0;34m\u001b[0m\u001b[0m\n\u001b[1;32m    405\u001b[0m                 \u001b[0mfapl\u001b[0m \u001b[0;34m=\u001b[0m \u001b[0mmake_fapl\u001b[0m\u001b[0;34m(\u001b[0m\u001b[0mdriver\u001b[0m\u001b[0;34m,\u001b[0m \u001b[0mlibver\u001b[0m\u001b[0;34m,\u001b[0m \u001b[0mrdcc_nslots\u001b[0m\u001b[0;34m,\u001b[0m \u001b[0mrdcc_nbytes\u001b[0m\u001b[0;34m,\u001b[0m \u001b[0mrdcc_w0\u001b[0m\u001b[0;34m,\u001b[0m \u001b[0;34m**\u001b[0m\u001b[0mkwds\u001b[0m\u001b[0;34m)\u001b[0m\u001b[0;34m\u001b[0m\u001b[0;34m\u001b[0m\u001b[0m\n\u001b[0;32m--> 406\u001b[0;31m                 fid = make_fid(name, mode, userblock_size,\n\u001b[0m\u001b[1;32m    407\u001b[0m                                \u001b[0mfapl\u001b[0m\u001b[0;34m,\u001b[0m \u001b[0mfcpl\u001b[0m\u001b[0;34m=\u001b[0m\u001b[0mmake_fcpl\u001b[0m\u001b[0;34m(\u001b[0m\u001b[0mtrack_order\u001b[0m\u001b[0;34m=\u001b[0m\u001b[0mtrack_order\u001b[0m\u001b[0;34m)\u001b[0m\u001b[0;34m,\u001b[0m\u001b[0;34m\u001b[0m\u001b[0;34m\u001b[0m\u001b[0m\n\u001b[1;32m    408\u001b[0m                                swmr=swmr)\n",
      "\u001b[0;32m~/.conda/envs/readdy/lib/python3.8/site-packages/h5py/_hl/files.py\u001b[0m in \u001b[0;36mmake_fid\u001b[0;34m(name, mode, userblock_size, fapl, fcpl, swmr)\u001b[0m\n\u001b[1;32m    171\u001b[0m         \u001b[0;32mif\u001b[0m \u001b[0mswmr\u001b[0m \u001b[0;32mand\u001b[0m \u001b[0mswmr_support\u001b[0m\u001b[0;34m:\u001b[0m\u001b[0;34m\u001b[0m\u001b[0;34m\u001b[0m\u001b[0m\n\u001b[1;32m    172\u001b[0m             \u001b[0mflags\u001b[0m \u001b[0;34m|=\u001b[0m \u001b[0mh5f\u001b[0m\u001b[0;34m.\u001b[0m\u001b[0mACC_SWMR_READ\u001b[0m\u001b[0;34m\u001b[0m\u001b[0;34m\u001b[0m\u001b[0m\n\u001b[0;32m--> 173\u001b[0;31m         \u001b[0mfid\u001b[0m \u001b[0;34m=\u001b[0m \u001b[0mh5f\u001b[0m\u001b[0;34m.\u001b[0m\u001b[0mopen\u001b[0m\u001b[0;34m(\u001b[0m\u001b[0mname\u001b[0m\u001b[0;34m,\u001b[0m \u001b[0mflags\u001b[0m\u001b[0;34m,\u001b[0m \u001b[0mfapl\u001b[0m\u001b[0;34m=\u001b[0m\u001b[0mfapl\u001b[0m\u001b[0;34m)\u001b[0m\u001b[0;34m\u001b[0m\u001b[0;34m\u001b[0m\u001b[0m\n\u001b[0m\u001b[1;32m    174\u001b[0m     \u001b[0;32melif\u001b[0m \u001b[0mmode\u001b[0m \u001b[0;34m==\u001b[0m \u001b[0;34m'r+'\u001b[0m\u001b[0;34m:\u001b[0m\u001b[0;34m\u001b[0m\u001b[0;34m\u001b[0m\u001b[0m\n\u001b[1;32m    175\u001b[0m         \u001b[0mfid\u001b[0m \u001b[0;34m=\u001b[0m \u001b[0mh5f\u001b[0m\u001b[0;34m.\u001b[0m\u001b[0mopen\u001b[0m\u001b[0;34m(\u001b[0m\u001b[0mname\u001b[0m\u001b[0;34m,\u001b[0m \u001b[0mh5f\u001b[0m\u001b[0;34m.\u001b[0m\u001b[0mACC_RDWR\u001b[0m\u001b[0;34m,\u001b[0m \u001b[0mfapl\u001b[0m\u001b[0;34m=\u001b[0m\u001b[0mfapl\u001b[0m\u001b[0;34m)\u001b[0m\u001b[0;34m\u001b[0m\u001b[0;34m\u001b[0m\u001b[0m\n",
      "\u001b[0;32mh5py/_objects.pyx\u001b[0m in \u001b[0;36mh5py._objects.with_phil.wrapper\u001b[0;34m()\u001b[0m\n",
      "\u001b[0;32mh5py/_objects.pyx\u001b[0m in \u001b[0;36mh5py._objects.with_phil.wrapper\u001b[0;34m()\u001b[0m\n",
      "\u001b[0;32mh5py/h5f.pyx\u001b[0m in \u001b[0;36mh5py.h5f.open\u001b[0;34m()\u001b[0m\n",
      "\u001b[0;31mOSError\u001b[0m: Unable to open file (file is already open for write (may use <h5clear file> to clear file consistency flags))"
     ]
    }
   ],
   "source": [
    "t = readdy.Trajectory(\"gradient_R1R2/gradient_R1R2_0.001_0.0_50.0_2.0.h5\")"
   ]
  },
  {
   "cell_type": "code",
   "execution_count": null,
   "metadata": {},
   "outputs": [],
   "source": []
  }
 ],
 "metadata": {
  "kernelspec": {
   "display_name": "readdy",
   "language": "python",
   "name": "readdy"
  },
  "language_info": {
   "codemirror_mode": {
    "name": "ipython",
    "version": 3
   },
   "file_extension": ".py",
   "mimetype": "text/x-python",
   "name": "python",
   "nbconvert_exporter": "python",
   "pygments_lexer": "ipython3",
   "version": "3.8.6"
  }
 },
 "nbformat": 4,
 "nbformat_minor": 2
}
